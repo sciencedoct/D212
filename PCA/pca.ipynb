{
 "cells": [
  {
   "cell_type": "markdown",
   "id": "f0a3c55a-12c8-4fa0-8283-735f6dfde88e",
   "metadata": {},
   "source": [
    "# Dimensionality Reduction Method with Principal Component Analysis (PCA) in Python\n",
    "# PCA is an Unsurpersived machine learning method used in data mining to reduce the dimensionality of large datasets.\n",
    "# How PCA work? PCA keeps or retains features with higher variance and discards the features with lower variance. \n",
    "# PCA assumes that features have linearity, features with higher variance are important, and features with lower variance are not important and therefore, must be discarded. \n",
    "# PCA works with continuous variables because it is a process of rotating data from one coordinate system to another. \n",
    "# Continuous variables are measurable. \n",
    "# Discrete variables are countable."
   ]
  },
  {
   "cell_type": "markdown",
   "id": "36ab0404-6738-4ec9-98d6-d2bf1a9006da",
   "metadata": {},
   "source": [
    "# Python PCA Tools with JupyterLab"
   ]
  },
  {
   "cell_type": "code",
   "execution_count": 1,
   "id": "5ac0d064-730b-4538-a9ec-6543cc154c9a",
   "metadata": {},
   "outputs": [
    {
     "name": "stdout",
     "output_type": "stream",
     "text": [
      "3.11.7\n"
     ]
    }
   ],
   "source": [
    "from platform import python_version\n",
    "print(python_version())"
   ]
  },
  {
   "cell_type": "code",
   "execution_count": 2,
   "id": "fd2febf7-8a5c-4b19-9e57-7a454bd3024f",
   "metadata": {},
   "outputs": [],
   "source": [
    "import pandas as pd\n",
    "from pandas.api.types import CategoricalDtype\n",
    "from pandas.plotting import table\n",
    "import numpy as np\n",
    "import csv\n",
    "\n",
    "# Scikit-Learn\n",
    "from sklearn.preprocessing import StandardScaler\n",
    "from sklearn.decomposition import PCA\n",
    "pca=PCA()\n",
    "\n",
    "import matplotlib.pyplot as plt\n",
    "import seaborn as sn\n",
    "plt.rcParams[\"figure.figsize\"] = (14, 10)\n",
    "plt.rcParams['figure.max_open_warning']=False\n",
    "\n",
    "# Display Multiple Outputs in a cell\n",
    "from IPython.display import display, HTML\n",
    "from IPython.core.interactiveshell import InteractiveShell\n",
    "\n",
    "# Configure pandas display options\n",
    "pd.set_option('display.max_columns', None)\n",
    "\n",
    "\n",
    "# Suppress warnings\n",
    "import warnings\n",
    "warnings.filterwarnings('ignore', category=DeprecationWarning)\n",
    "warnings.filterwarnings('ignore', category=FutureWarning)\n",
    "warnings.filterwarnings('ignore')"
   ]
  },
  {
   "cell_type": "markdown",
   "id": "690bb591-3c54-4fb4-95d5-561cf53ea526",
   "metadata": {},
   "source": [
    "# Collect Data"
   ]
  },
  {
   "cell_type": "code",
   "execution_count": 56,
   "id": "a6279f22-5c00-485f-a9b0-efe006021d61",
   "metadata": {},
   "outputs": [
    {
     "data": {
      "text/plain": [
       "Index(['CaseOrder', 'Customer_id', 'Interaction', 'UID', 'City', 'State',\n",
       "       'County', 'Zip', 'Lat', 'Lng', 'Population', 'Area', 'TimeZone', 'Job',\n",
       "       'Children', 'Age', 'Income', 'Marital', 'Gender', 'ReAdmis',\n",
       "       'VitD_levels', 'Doc_visits', 'Full_meals_eaten', 'vitD_supp',\n",
       "       'Soft_drink', 'Initial_admin', 'HighBlood', 'Stroke',\n",
       "       'Complication_risk', 'Overweight', 'Arthritis', 'Diabetes',\n",
       "       'Hyperlipidemia', 'BackPain', 'Anxiety', 'Allergic_rhinitis',\n",
       "       'Reflux_esophagitis', 'Asthma', 'Services', 'Initial_days',\n",
       "       'TotalCharge', 'Additional_charges', 'Item1', 'Item2', 'Item3', 'Item4',\n",
       "       'Item5', 'Item6', 'Item7', 'Item8'],\n",
       "      dtype='object')"
      ]
     },
     "execution_count": 56,
     "metadata": {},
     "output_type": "execute_result"
    }
   ],
   "source": [
    "data = pd.read_csv('data.csv')\n",
    "data.columns"
   ]
  },
  {
   "cell_type": "code",
   "execution_count": 57,
   "id": "91b858db-524e-454f-b091-2e7a94e4d296",
   "metadata": {},
   "outputs": [
    {
     "name": "stdout",
     "output_type": "stream",
     "text": [
      "<class 'pandas.core.frame.DataFrame'>\n",
      "RangeIndex: 10000 entries, 0 to 9999\n",
      "Data columns (total 50 columns):\n",
      " #   Column              Non-Null Count  Dtype  \n",
      "---  ------              --------------  -----  \n",
      " 0   CaseOrder           10000 non-null  int64  \n",
      " 1   Customer_id         10000 non-null  object \n",
      " 2   Interaction         10000 non-null  object \n",
      " 3   UID                 10000 non-null  object \n",
      " 4   City                10000 non-null  object \n",
      " 5   State               10000 non-null  object \n",
      " 6   County              10000 non-null  object \n",
      " 7   Zip                 10000 non-null  int64  \n",
      " 8   Lat                 10000 non-null  float64\n",
      " 9   Lng                 10000 non-null  float64\n",
      " 10  Population          10000 non-null  int64  \n",
      " 11  Area                10000 non-null  object \n",
      " 12  TimeZone            10000 non-null  object \n",
      " 13  Job                 10000 non-null  object \n",
      " 14  Children            10000 non-null  int64  \n",
      " 15  Age                 10000 non-null  int64  \n",
      " 16  Income              10000 non-null  float64\n",
      " 17  Marital             10000 non-null  object \n",
      " 18  Gender              10000 non-null  object \n",
      " 19  ReAdmis             10000 non-null  object \n",
      " 20  VitD_levels         10000 non-null  float64\n",
      " 21  Doc_visits          10000 non-null  int64  \n",
      " 22  Full_meals_eaten    10000 non-null  int64  \n",
      " 23  vitD_supp           10000 non-null  int64  \n",
      " 24  Soft_drink          10000 non-null  object \n",
      " 25  Initial_admin       10000 non-null  object \n",
      " 26  HighBlood           10000 non-null  object \n",
      " 27  Stroke              10000 non-null  object \n",
      " 28  Complication_risk   10000 non-null  object \n",
      " 29  Overweight          10000 non-null  object \n",
      " 30  Arthritis           10000 non-null  object \n",
      " 31  Diabetes            10000 non-null  object \n",
      " 32  Hyperlipidemia      10000 non-null  object \n",
      " 33  BackPain            10000 non-null  object \n",
      " 34  Anxiety             10000 non-null  object \n",
      " 35  Allergic_rhinitis   10000 non-null  object \n",
      " 36  Reflux_esophagitis  10000 non-null  object \n",
      " 37  Asthma              10000 non-null  object \n",
      " 38  Services            10000 non-null  object \n",
      " 39  Initial_days        10000 non-null  float64\n",
      " 40  TotalCharge         10000 non-null  float64\n",
      " 41  Additional_charges  10000 non-null  float64\n",
      " 42  Item1               10000 non-null  int64  \n",
      " 43  Item2               10000 non-null  int64  \n",
      " 44  Item3               10000 non-null  int64  \n",
      " 45  Item4               10000 non-null  int64  \n",
      " 46  Item5               10000 non-null  int64  \n",
      " 47  Item6               10000 non-null  int64  \n",
      " 48  Item7               10000 non-null  int64  \n",
      " 49  Item8               10000 non-null  int64  \n",
      "dtypes: float64(7), int64(16), object(27)\n",
      "memory usage: 3.8+ MB\n"
     ]
    }
   ],
   "source": [
    "data.info()"
   ]
  },
  {
   "cell_type": "code",
   "execution_count": 58,
   "id": "943e2c0b-a10d-4c2e-827d-19a7d2b93f04",
   "metadata": {},
   "outputs": [
    {
     "data": {
      "text/plain": [
       "(10000, 50)"
      ]
     },
     "execution_count": 58,
     "metadata": {},
     "output_type": "execute_result"
    }
   ],
   "source": [
    "data.shape"
   ]
  },
  {
   "cell_type": "markdown",
   "id": "990b4fd4-be7a-43a8-9a2d-4e6c616706bb",
   "metadata": {},
   "source": [
    "# Data preprocessing"
   ]
  },
  {
   "cell_type": "code",
   "execution_count": 59,
   "id": "4ce17eb0-daf6-43f3-8d0c-ec10709b60c2",
   "metadata": {},
   "outputs": [
    {
     "data": {
      "text/plain": [
       "Index(['CaseOrder', 'Zip', 'Lat', 'Lng', 'Population', 'Children', 'Age',\n",
       "       'Income', 'VitD_levels', 'Doc_visits', 'Full_meals_eaten', 'vitD_supp',\n",
       "       'Initial_days', 'TotalCharge', 'Additional_charges', 'Item1', 'Item2',\n",
       "       'Item3', 'Item4', 'Item5', 'Item6', 'Item7', 'Item8'],\n",
       "      dtype='object')"
      ]
     },
     "execution_count": 59,
     "metadata": {},
     "output_type": "execute_result"
    }
   ],
   "source": [
    "df = data.select_dtypes('number')\n",
    "df.columns"
   ]
  },
  {
   "cell_type": "code",
   "execution_count": 60,
   "id": "99e42712-e929-450b-8edf-dc05e7e14823",
   "metadata": {},
   "outputs": [
    {
     "data": {
      "text/plain": [
       "(10000, 23)"
      ]
     },
     "execution_count": 60,
     "metadata": {},
     "output_type": "execute_result"
    }
   ],
   "source": [
    "df.shape"
   ]
  },
  {
   "cell_type": "code",
   "execution_count": 64,
   "id": "7889b244-351a-4f54-99ef-73604ab541cd",
   "metadata": {},
   "outputs": [
    {
     "data": {
      "text/plain": [
       "Index(['CaseOrder', 'Zip', 'Lat', 'Lng', 'Population', 'Children', 'Age',\n",
       "       'Income', 'VitD_levels', 'Doc_visits', 'Full_meals_eaten', 'vitD_supp',\n",
       "       'Initial_days', 'TotalCharge', 'Additional_charges', 'Item1', 'Item2',\n",
       "       'Item3', 'Item4', 'Item5', 'Item6', 'Item7', 'Item8'],\n",
       "      dtype='object')"
      ]
     },
     "execution_count": 64,
     "metadata": {},
     "output_type": "execute_result"
    }
   ],
   "source": [
    "df = data.select_dtypes('number')\n",
    "df.columns"
   ]
  },
  {
   "cell_type": "code",
   "execution_count": 65,
   "id": "43148207-60be-4fad-aeca-de59b937b0c7",
   "metadata": {},
   "outputs": [
    {
     "data": {
      "text/plain": [
       "Index(['CaseOrder', 'Zip', 'Lat', 'Lng', 'Population', 'Children', 'Age',\n",
       "       'Income', 'VitD_levels', 'Doc_visits', 'Full_meals_eaten', 'vitD_supp',\n",
       "       'Initial_days', 'TotalCharge', 'Additional_charges', 'Item1', 'Item2',\n",
       "       'Item3', 'Item4', 'Item5', 'Item6', 'Item7', 'Item8'],\n",
       "      dtype='object')"
      ]
     },
     "execution_count": 65,
     "metadata": {},
     "output_type": "execute_result"
    }
   ],
   "source": [
    "df1 = data.select_dtypes(exclude = 'object')\n",
    "df1.columns"
   ]
  },
  {
   "cell_type": "code",
   "execution_count": 66,
   "id": "077dcc7a-5971-449a-b40d-1ded657e83c4",
   "metadata": {},
   "outputs": [
    {
     "data": {
      "text/plain": [
       "(10000, 23)"
      ]
     },
     "execution_count": 66,
     "metadata": {},
     "output_type": "execute_result"
    }
   ],
   "source": [
    "df1.shape"
   ]
  },
  {
   "cell_type": "code",
   "execution_count": 67,
   "id": "ccf014d1-2702-46f3-b4a6-607ee238898e",
   "metadata": {},
   "outputs": [
    {
     "data": {
      "text/plain": [
       "Index(['Age', 'Income', 'VitD_levels', 'Doc_visits', 'Full_meals_eaten',\n",
       "       'vitD_supp', 'Initial_days', 'TotalCharge', 'Additional_charges'],\n",
       "      dtype='object')"
      ]
     },
     "execution_count": 67,
     "metadata": {},
     "output_type": "execute_result"
    }
   ],
   "source": [
    "df_cont = df.drop(['CaseOrder', 'Zip', 'Population', 'Children', 'Lat', 'Lng', 'Item1', 'Item2', 'Item3', 'Item4', 'Item5', 'Item6', 'Item7', 'Item8'], axis=1)\n",
    "df_cont.columns"
   ]
  },
  {
   "cell_type": "code",
   "execution_count": 68,
   "id": "2224fff0-fe5a-425e-88f5-4cb945c800ce",
   "metadata": {},
   "outputs": [
    {
     "data": {
      "text/plain": [
       "(10000, 9)"
      ]
     },
     "execution_count": 68,
     "metadata": {},
     "output_type": "execute_result"
    }
   ],
   "source": [
    "df_cont.shape"
   ]
  },
  {
   "cell_type": "code",
   "execution_count": 77,
   "id": "0fbd9660-31b7-4125-98f6-5111efa15a16",
   "metadata": {},
   "outputs": [
    {
     "data": {
      "text/html": [
       "<div>\n",
       "<style scoped>\n",
       "    .dataframe tbody tr th:only-of-type {\n",
       "        vertical-align: middle;\n",
       "    }\n",
       "\n",
       "    .dataframe tbody tr th {\n",
       "        vertical-align: top;\n",
       "    }\n",
       "\n",
       "    .dataframe thead th {\n",
       "        text-align: right;\n",
       "    }\n",
       "</style>\n",
       "<table border=\"1\" class=\"dataframe\">\n",
       "  <thead>\n",
       "    <tr style=\"text-align: right;\">\n",
       "      <th></th>\n",
       "      <th>Age</th>\n",
       "      <th>Income</th>\n",
       "      <th>VitD_levels</th>\n",
       "      <th>Doc_visits</th>\n",
       "      <th>Full_meals_eaten</th>\n",
       "      <th>vitD_supp</th>\n",
       "      <th>Initial_days</th>\n",
       "      <th>TotalCharge</th>\n",
       "      <th>Additional_charges</th>\n",
       "    </tr>\n",
       "  </thead>\n",
       "  <tbody>\n",
       "    <tr>\n",
       "      <th>0</th>\n",
       "      <td>-0.024795</td>\n",
       "      <td>1.615914</td>\n",
       "      <td>0.583603</td>\n",
       "      <td>0.944647</td>\n",
       "      <td>-0.993387</td>\n",
       "      <td>-0.634713</td>\n",
       "      <td>-0.907310</td>\n",
       "      <td>-0.727185</td>\n",
       "      <td>0.765005</td>\n",
       "    </tr>\n",
       "    <tr>\n",
       "      <th>1</th>\n",
       "      <td>-0.121706</td>\n",
       "      <td>0.221443</td>\n",
       "      <td>0.483901</td>\n",
       "      <td>-0.967981</td>\n",
       "      <td>0.990609</td>\n",
       "      <td>0.956445</td>\n",
       "      <td>-0.734595</td>\n",
       "      <td>-0.513228</td>\n",
       "      <td>0.715114</td>\n",
       "    </tr>\n",
       "    <tr>\n",
       "      <th>2</th>\n",
       "      <td>-0.024795</td>\n",
       "      <td>-0.915870</td>\n",
       "      <td>0.046227</td>\n",
       "      <td>-0.967981</td>\n",
       "      <td>-0.001389</td>\n",
       "      <td>-0.634713</td>\n",
       "      <td>-1.128292</td>\n",
       "      <td>-1.319983</td>\n",
       "      <td>0.698635</td>\n",
       "    </tr>\n",
       "    <tr>\n",
       "      <th>3</th>\n",
       "      <td>1.186592</td>\n",
       "      <td>-0.026263</td>\n",
       "      <td>-0.687811</td>\n",
       "      <td>-0.967981</td>\n",
       "      <td>-0.001389</td>\n",
       "      <td>-0.634713</td>\n",
       "      <td>-1.244503</td>\n",
       "      <td>-1.460517</td>\n",
       "      <td>0.009004</td>\n",
       "    </tr>\n",
       "    <tr>\n",
       "      <th>4</th>\n",
       "      <td>-1.526914</td>\n",
       "      <td>-1.377325</td>\n",
       "      <td>-0.260366</td>\n",
       "      <td>-0.011667</td>\n",
       "      <td>-0.993387</td>\n",
       "      <td>2.547602</td>\n",
       "      <td>-1.261991</td>\n",
       "      <td>-1.467285</td>\n",
       "      <td>-1.408991</td>\n",
       "    </tr>\n",
       "  </tbody>\n",
       "</table>\n",
       "</div>"
      ],
      "text/plain": [
       "        Age    Income  VitD_levels  Doc_visits  Full_meals_eaten  vitD_supp  \\\n",
       "0 -0.024795  1.615914     0.583603    0.944647         -0.993387  -0.634713   \n",
       "1 -0.121706  0.221443     0.483901   -0.967981          0.990609   0.956445   \n",
       "2 -0.024795 -0.915870     0.046227   -0.967981         -0.001389  -0.634713   \n",
       "3  1.186592 -0.026263    -0.687811   -0.967981         -0.001389  -0.634713   \n",
       "4 -1.526914 -1.377325    -0.260366   -0.011667         -0.993387   2.547602   \n",
       "\n",
       "   Initial_days  TotalCharge  Additional_charges  \n",
       "0     -0.907310    -0.727185            0.765005  \n",
       "1     -0.734595    -0.513228            0.715114  \n",
       "2     -1.128292    -1.319983            0.698635  \n",
       "3     -1.244503    -1.460517            0.009004  \n",
       "4     -1.261991    -1.467285           -1.408991  "
      ]
     },
     "execution_count": 77,
     "metadata": {},
     "output_type": "execute_result"
    }
   ],
   "source": [
    "scaler = StandardScaler()\n",
    "df_norm = scaler.fit_transform(df_cont)\n",
    "df_norm\n",
    "df_norm = pd.DataFrame(df_norm, columns = df_cont.columns)\n",
    "df_norm.head()"
   ]
  },
  {
   "cell_type": "code",
   "execution_count": 50,
   "id": "d0609d91-d536-43d2-a0ec-07ba59d46194",
   "metadata": {},
   "outputs": [],
   "source": [
    "from sklearn.decomposition import PCA\n",
    "pca = PCA()"
   ]
  },
  {
   "cell_type": "code",
   "execution_count": 78,
   "id": "90984c54-99c8-4281-b6cb-9f94c0b47d15",
   "metadata": {},
   "outputs": [
    {
     "data": {
      "text/html": [
       "<div>\n",
       "<style scoped>\n",
       "    .dataframe tbody tr th:only-of-type {\n",
       "        vertical-align: middle;\n",
       "    }\n",
       "\n",
       "    .dataframe tbody tr th {\n",
       "        vertical-align: top;\n",
       "    }\n",
       "\n",
       "    .dataframe thead th {\n",
       "        text-align: right;\n",
       "    }\n",
       "</style>\n",
       "<table border=\"1\" class=\"dataframe\">\n",
       "  <thead>\n",
       "    <tr style=\"text-align: right;\">\n",
       "      <th></th>\n",
       "      <th>PC1</th>\n",
       "      <th>PC2</th>\n",
       "      <th>PC3</th>\n",
       "      <th>PC4</th>\n",
       "      <th>PC5</th>\n",
       "      <th>PC6</th>\n",
       "      <th>PC7</th>\n",
       "      <th>PC8</th>\n",
       "      <th>PC9</th>\n",
       "    </tr>\n",
       "  </thead>\n",
       "  <tbody>\n",
       "    <tr>\n",
       "      <th>Age</th>\n",
       "      <td>0.085241</td>\n",
       "      <td>0.701020</td>\n",
       "      <td>-0.021650</td>\n",
       "      <td>-0.012275</td>\n",
       "      <td>-0.018288</td>\n",
       "      <td>-0.010093</td>\n",
       "      <td>-0.018179</td>\n",
       "      <td>0.706561</td>\n",
       "      <td>0.026277</td>\n",
       "    </tr>\n",
       "    <tr>\n",
       "      <th>Income</th>\n",
       "      <td>-0.020628</td>\n",
       "      <td>-0.018996</td>\n",
       "      <td>-0.394809</td>\n",
       "      <td>0.399435</td>\n",
       "      <td>-0.588585</td>\n",
       "      <td>0.530645</td>\n",
       "      <td>-0.236152</td>\n",
       "      <td>0.002400</td>\n",
       "      <td>0.001284</td>\n",
       "    </tr>\n",
       "    <tr>\n",
       "      <th>VitD_levels</th>\n",
       "      <td>-0.002423</td>\n",
       "      <td>0.020313</td>\n",
       "      <td>0.521997</td>\n",
       "      <td>0.407359</td>\n",
       "      <td>0.337957</td>\n",
       "      <td>0.169445</td>\n",
       "      <td>-0.646703</td>\n",
       "      <td>-0.002205</td>\n",
       "      <td>-0.001504</td>\n",
       "    </tr>\n",
       "    <tr>\n",
       "      <th>Doc_visits</th>\n",
       "      <td>-0.007148</td>\n",
       "      <td>0.016043</td>\n",
       "      <td>-0.113449</td>\n",
       "      <td>0.814343</td>\n",
       "      <td>0.096307</td>\n",
       "      <td>-0.430289</td>\n",
       "      <td>0.359499</td>\n",
       "      <td>0.001254</td>\n",
       "      <td>-0.001108</td>\n",
       "    </tr>\n",
       "    <tr>\n",
       "      <th>Full_meals_eaten</th>\n",
       "      <td>-0.020260</td>\n",
       "      <td>0.031079</td>\n",
       "      <td>0.612834</td>\n",
       "      <td>0.092652</td>\n",
       "      <td>-0.155071</td>\n",
       "      <td>0.481092</td>\n",
       "      <td>0.599056</td>\n",
       "      <td>0.010328</td>\n",
       "      <td>-0.001609</td>\n",
       "    </tr>\n",
       "    <tr>\n",
       "      <th>vitD_supp</th>\n",
       "      <td>0.025338</td>\n",
       "      <td>0.015065</td>\n",
       "      <td>-0.426745</td>\n",
       "      <td>0.047079</td>\n",
       "      <td>0.710181</td>\n",
       "      <td>0.522461</td>\n",
       "      <td>0.193600</td>\n",
       "      <td>0.000587</td>\n",
       "      <td>-0.000603</td>\n",
       "    </tr>\n",
       "    <tr>\n",
       "      <th>Initial_days</th>\n",
       "      <td>0.700854</td>\n",
       "      <td>-0.090544</td>\n",
       "      <td>0.012067</td>\n",
       "      <td>0.011716</td>\n",
       "      <td>-0.020984</td>\n",
       "      <td>0.003895</td>\n",
       "      <td>0.003240</td>\n",
       "      <td>0.031718</td>\n",
       "      <td>-0.706294</td>\n",
       "    </tr>\n",
       "    <tr>\n",
       "      <th>TotalCharge</th>\n",
       "      <td>0.701943</td>\n",
       "      <td>-0.079929</td>\n",
       "      <td>0.014701</td>\n",
       "      <td>0.013350</td>\n",
       "      <td>-0.019300</td>\n",
       "      <td>0.004421</td>\n",
       "      <td>0.004672</td>\n",
       "      <td>-0.031288</td>\n",
       "      <td>0.706470</td>\n",
       "    </tr>\n",
       "    <tr>\n",
       "      <th>Additional_charges</th>\n",
       "      <td>0.085316</td>\n",
       "      <td>0.701256</td>\n",
       "      <td>-0.016336</td>\n",
       "      <td>-0.009422</td>\n",
       "      <td>-0.022948</td>\n",
       "      <td>-0.002139</td>\n",
       "      <td>-0.007473</td>\n",
       "      <td>-0.706164</td>\n",
       "      <td>-0.036751</td>\n",
       "    </tr>\n",
       "  </tbody>\n",
       "</table>\n",
       "</div>"
      ],
      "text/plain": [
       "                         PC1       PC2       PC3       PC4       PC5  \\\n",
       "Age                 0.085241  0.701020 -0.021650 -0.012275 -0.018288   \n",
       "Income             -0.020628 -0.018996 -0.394809  0.399435 -0.588585   \n",
       "VitD_levels        -0.002423  0.020313  0.521997  0.407359  0.337957   \n",
       "Doc_visits         -0.007148  0.016043 -0.113449  0.814343  0.096307   \n",
       "Full_meals_eaten   -0.020260  0.031079  0.612834  0.092652 -0.155071   \n",
       "vitD_supp           0.025338  0.015065 -0.426745  0.047079  0.710181   \n",
       "Initial_days        0.700854 -0.090544  0.012067  0.011716 -0.020984   \n",
       "TotalCharge         0.701943 -0.079929  0.014701  0.013350 -0.019300   \n",
       "Additional_charges  0.085316  0.701256 -0.016336 -0.009422 -0.022948   \n",
       "\n",
       "                         PC6       PC7       PC8       PC9  \n",
       "Age                -0.010093 -0.018179  0.706561  0.026277  \n",
       "Income              0.530645 -0.236152  0.002400  0.001284  \n",
       "VitD_levels         0.169445 -0.646703 -0.002205 -0.001504  \n",
       "Doc_visits         -0.430289  0.359499  0.001254 -0.001108  \n",
       "Full_meals_eaten    0.481092  0.599056  0.010328 -0.001609  \n",
       "vitD_supp           0.522461  0.193600  0.000587 -0.000603  \n",
       "Initial_days        0.003895  0.003240  0.031718 -0.706294  \n",
       "TotalCharge         0.004421  0.004672 -0.031288  0.706470  \n",
       "Additional_charges -0.002139 -0.007473 -0.706164 -0.036751  "
      ]
     },
     "execution_count": 78,
     "metadata": {},
     "output_type": "execute_result"
    }
   ],
   "source": [
    "pc=pca.fit_transform(df_norm)\n",
    "\n",
    "loading = pd.DataFrame(pca.components_, columns=df_cont.columns, index=('PC1', 'PC2', 'PC3', 'PC4', 'PC5', 'PC6', 'PC7', 'PC8', 'PC9')).T\n",
    "loading"
   ]
  },
  {
   "cell_type": "code",
   "execution_count": 79,
   "id": "fba9d006-98fc-45d2-b5c7-9d14d11277af",
   "metadata": {},
   "outputs": [],
   "source": [
    "exp_variance=pca.explained_variance_ratio_"
   ]
  },
  {
   "cell_type": "code",
   "execution_count": 80,
   "id": "917d6aa5-2983-4295-8a46-df592de2544e",
   "metadata": {},
   "outputs": [],
   "source": [
    "pcomp=np.arange(pca.n_components_)+1"
   ]
  },
  {
   "cell_type": "code",
   "execution_count": 81,
   "id": "51f46bec-06c5-47fc-adeb-960c64efb487",
   "metadata": {},
   "outputs": [
    {
     "data": {
      "image/png": "[encoded data removed]",
      "text/plain": [
       "<Figure size 1200x600 with 1 Axes>"
      ]
     },
     "metadata": {},
     "output_type": "display_data"
    }
   ],
   "source": [
    "plt.figure(figsize=(12, 6))\n",
    "plt.plot(pcomp,\n",
    "         exp_variance,\n",
    "         'r-')\n",
    "plt.title('Scree Plot (Elbow Method)', fontsize=18)\n",
    "plt.xlabel('Number of Components', fontsize=18)\n",
    "plt.ylabel('Variance Proportion', fontsize=18)\n",
    "plt.grid()\n",
    "plt.show()"
   ]
  },
  {
   "cell_type": "markdown",
   "id": "1952bb72-9d41-40e6-978d-94a4de313f75",
   "metadata": {},
   "source": [
    "# The Elbow Standard above determined that 2 PCs are significant. "
   ]
  },
  {
   "cell_type": "code",
   "execution_count": 82,
   "id": "21cc2d48-92ab-4b14-a5a9-9be8b1d151c1",
   "metadata": {},
   "outputs": [
    {
     "name": "stdout",
     "output_type": "stream",
     "text": [
      "{'PC1': 1, 'PC2': 2}\n"
     ]
    }
   ],
   "source": [
    "print(dict(zip(['PC1', 'PC2'], pcomp)))"
   ]
  },
  {
   "cell_type": "code",
   "execution_count": 84,
   "id": "46de409c-636f-45ff-97b8-0a9de438c069",
   "metadata": {},
   "outputs": [
    {
     "name": "stdout",
     "output_type": "stream",
     "text": [
      "Variance of the first four principal components:\n",
      "[1.99341409 1.71462424]\n"
     ]
    }
   ],
   "source": [
    "print('Variance of the first four principal components:')\n",
    "print(pca.explained_variance_[:2])"
   ]
  },
  {
   "cell_type": "code",
   "execution_count": 85,
   "id": "95aeb950-5134-45eb-ba0f-536b05dec4d6",
   "metadata": {},
   "outputs": [
    {
     "data": {
      "text/plain": [
       "3.70803833"
      ]
     },
     "execution_count": 85,
     "metadata": {},
     "output_type": "execute_result"
    }
   ],
   "source": [
    "Total_captured_variance= 1.99341409+1.71462424\n",
    "Total_captured_variance"
   ]
  }
 ],
 "metadata": {
  "kernelspec": {
   "display_name": "Python 3 (ipykernel)",
   "language": "python",
   "name": "python3"
  },
  "language_info": {
   "codemirror_mode": {
    "name": "ipython",
    "version": 3
   },
   "file_extension": ".py",
   "mimetype": "text/x-python",
   "name": "python",
   "nbconvert_exporter": "python",
   "pygments_lexer": "ipython3",
   "version": "3.12.4"
  }
 },
 "nbformat": 4,
 "nbformat_minor": 5
}
