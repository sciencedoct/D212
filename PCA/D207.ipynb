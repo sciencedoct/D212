{
 "cells": [
  {
   "cell_type": "code",
   "execution_count": 1,
   "id": "522fb886-25e6-4643-befc-664db643b6a0",
   "metadata": {},
   "outputs": [
    {
     "data": {
      "text/plain": [
       "Index(['CaseOrder', 'Customer_id', 'Interaction', 'UID', 'City', 'State',\n",
       "       'County', 'Zip', 'Lat', 'Lng', 'Population', 'Area', 'TimeZone', 'Job',\n",
       "       'Children', 'Age', 'Income', 'Marital', 'Gender', 'ReAdmis',\n",
       "       'VitD_levels', 'Doc_visits', 'Full_meals_eaten', 'vitD_supp',\n",
       "       'Soft_drink', 'Initial_admin', 'HighBlood', 'Stroke',\n",
       "       'Complication_risk', 'Overweight', 'Arthritis', 'Diabetes',\n",
       "       'Hyperlipidemia', 'BackPain', 'Anxiety', 'Allergic_rhinitis',\n",
       "       'Reflux_esophagitis', 'Asthma', 'Services', 'Initial_days',\n",
       "       'TotalCharge', 'Additional_charges', 'Item1', 'Item2', 'Item3', 'Item4',\n",
       "       'Item5', 'Item6', 'Item7', 'Item8'],\n",
       "      dtype='object')"
      ]
     },
     "execution_count": 1,
     "metadata": {},
     "output_type": "execute_result"
    }
   ],
   "source": [
    "import pandas as pd\n",
    "import researchpy as rp\n",
    "import scipy.stats as stats\n",
    "\n",
    "\n",
    "import warnings\n",
    "warnings.filterwarnings('ignore') \n",
    "\n",
    "df=pd.read_csv(\"med.csv\")\n",
    "df.columns\n"
   ]
  },
  {
   "cell_type": "code",
   "execution_count": 2,
   "id": "eb358210-593a-4d20-832a-41eaa12d1b41",
   "metadata": {},
   "outputs": [
    {
     "name": "stdout",
     "output_type": "stream",
     "text": [
      "<class 'pandas.core.frame.DataFrame'>\n",
      "RangeIndex: 10000 entries, 0 to 9999\n",
      "Data columns (total 50 columns):\n",
      " #   Column              Non-Null Count  Dtype  \n",
      "---  ------              --------------  -----  \n",
      " 0   CaseOrder           10000 non-null  int64  \n",
      " 1   Customer_id         10000 non-null  object \n",
      " 2   Interaction         10000 non-null  object \n",
      " 3   UID                 10000 non-null  object \n",
      " 4   City                10000 non-null  object \n",
      " 5   State               10000 non-null  object \n",
      " 6   County              10000 non-null  object \n",
      " 7   Zip                 10000 non-null  int64  \n",
      " 8   Lat                 10000 non-null  float64\n",
      " 9   Lng                 10000 non-null  float64\n",
      " 10  Population          10000 non-null  int64  \n",
      " 11  Area                10000 non-null  object \n",
      " 12  TimeZone            10000 non-null  object \n",
      " 13  Job                 10000 non-null  object \n",
      " 14  Children            10000 non-null  int64  \n",
      " 15  Age                 10000 non-null  int64  \n",
      " 16  Income              10000 non-null  float64\n",
      " 17  Marital             10000 non-null  object \n",
      " 18  Gender              10000 non-null  object \n",
      " 19  ReAdmis             10000 non-null  object \n",
      " 20  VitD_levels         10000 non-null  float64\n",
      " 21  Doc_visits          10000 non-null  int64  \n",
      " 22  Full_meals_eaten    10000 non-null  int64  \n",
      " 23  vitD_supp           10000 non-null  int64  \n",
      " 24  Soft_drink          10000 non-null  object \n",
      " 25  Initial_admin       10000 non-null  object \n",
      " 26  HighBlood           10000 non-null  object \n",
      " 27  Stroke              10000 non-null  object \n",
      " 28  Complication_risk   10000 non-null  object \n",
      " 29  Overweight          10000 non-null  object \n",
      " 30  Arthritis           10000 non-null  object \n",
      " 31  Diabetes            10000 non-null  object \n",
      " 32  Hyperlipidemia      10000 non-null  object \n",
      " 33  BackPain            10000 non-null  object \n",
      " 34  Anxiety             10000 non-null  object \n",
      " 35  Allergic_rhinitis   10000 non-null  object \n",
      " 36  Reflux_esophagitis  10000 non-null  object \n",
      " 37  Asthma              10000 non-null  object \n",
      " 38  Services            10000 non-null  object \n",
      " 39  Initial_days        10000 non-null  float64\n",
      " 40  TotalCharge         10000 non-null  float64\n",
      " 41  Additional_charges  10000 non-null  float64\n",
      " 42  Item1               10000 non-null  int64  \n",
      " 43  Item2               10000 non-null  int64  \n",
      " 44  Item3               10000 non-null  int64  \n",
      " 45  Item4               10000 non-null  int64  \n",
      " 46  Item5               10000 non-null  int64  \n",
      " 47  Item6               10000 non-null  int64  \n",
      " 48  Item7               10000 non-null  int64  \n",
      " 49  Item8               10000 non-null  int64  \n",
      "dtypes: float64(7), int64(16), object(27)\n",
      "memory usage: 3.8+ MB\n"
     ]
    }
   ],
   "source": [
    "df.info()"
   ]
  },
  {
   "cell_type": "markdown",
   "id": "ed321eb0-17fc-478b-a00b-1932539ee32f",
   "metadata": {},
   "source": [
    "# RQ: Is the mean income between men and women different? "
   ]
  },
  {
   "cell_type": "markdown",
   "id": "71402798-e689-492a-87ae-26b2475ce38c",
   "metadata": {},
   "source": [
    "# HO1: The mean income is not different between men and women. Reject\n",
    "# Ha1: The mean income is different between men and women. Accept"
   ]
  },
  {
   "cell_type": "markdown",
   "id": "abf984c6-5030-4ec3-9986-4ee7b4185ec5",
   "metadata": {},
   "source": [
    "# Using researchpy as rp"
   ]
  },
  {
   "cell_type": "code",
   "execution_count": 3,
   "id": "c393952c-8759-484f-9aa3-c70562a053f3",
   "metadata": {},
   "outputs": [
    {
     "data": {
      "text/plain": [
       "(   Variable       N          Mean            SD          SE     95% Conf.  \\\n",
       " 0      Male  4768.0  40573.096898  28771.099841  416.666266  39756.238620   \n",
       " 1    Female  5018.0  40396.425606  28144.090026  397.303035  39617.538058   \n",
       " 2  combined  9786.0  40482.504568  28449.993664  287.593833  39918.761281   \n",
       " \n",
       "        Interval  \n",
       " 0  41389.955177  \n",
       " 1  41175.313154  \n",
       " 2  41046.247854  ,\n",
       "               Independent t-test    results\n",
       " 0  Difference (Male - Female) =    176.6713\n",
       " 1          Degrees of freedom =   9784.0000\n",
       " 2                           t =      0.3070\n",
       " 3       Two side test p value =      0.7588\n",
       " 4      Difference < 0 p value =      0.6206\n",
       " 5      Difference > 0 p value =      0.3794\n",
       " 6                   Cohen's d =      0.0062\n",
       " 7                   Hedge's g =      0.0062\n",
       " 8              Glass's delta1 =      0.0061\n",
       " 9            Point-Biserial r =      0.0031)"
      ]
     },
     "execution_count": 3,
     "metadata": {},
     "output_type": "execute_result"
    }
   ],
   "source": [
    "rp.ttest(group1= df['Income'][df['Gender'] == 'Male'], group1_name= \"Male\",\n",
    "         group2= df['Income'][df['Gender'] == 'Female'], group2_name= \"Female\")"
   ]
  },
  {
   "cell_type": "markdown",
   "id": "d966d7f4-c098-40a2-ad7e-4e1489c4c7df",
   "metadata": {},
   "source": [
    "# Interpretation:\n",
    "# The mean income for males, M=40573.1, Interval is 41390), is statistically significantly higher than women, W=40396, Interval is 41175); t(9784)=.3070, p=0.4. "
   ]
  },
  {
   "cell_type": "code",
   "execution_count": 4,
   "id": "980aba77-a309-4d5b-810a-fcfc4e71cf7b",
   "metadata": {},
   "outputs": [
    {
     "name": "stdout",
     "output_type": "stream",
     "text": [
      "   Variable       N          Mean            SD          SE     95% Conf.  \\\n",
      "0      Male  4768.0  40573.096898  28771.099841  416.666266  39756.238620   \n",
      "1    Female  5018.0  40396.425606  28144.090026  397.303035  39617.538058   \n",
      "2  combined  9786.0  40482.504568  28449.993664  287.593833  39918.761281   \n",
      "\n",
      "       Interval  \n",
      "0  41389.955177  \n",
      "1  41175.313154  \n",
      "2  41046.247854  \n"
     ]
    }
   ],
   "source": [
    "summary, results = rp.ttest(group1= df['Income'][df['Gender'] == 'Male'], group1_name= \"Male\",\n",
    "                            group2= df['Income'][df['Gender'] == 'Female'], group2_name= \"Female\")\n",
    "print(summary)"
   ]
  },
  {
   "cell_type": "code",
   "execution_count": 5,
   "id": "d97be26a-242d-4e22-9b5a-2a85b9ac0e61",
   "metadata": {},
   "outputs": [
    {
     "name": "stdout",
     "output_type": "stream",
     "text": [
      "              Independent t-test    results\n",
      "0  Difference (Male - Female) =    176.6713\n",
      "1          Degrees of freedom =   9784.0000\n",
      "2                           t =      0.3070\n",
      "3       Two side test p value =      0.7588\n",
      "4      Difference < 0 p value =      0.6206\n",
      "5      Difference > 0 p value =      0.3794\n",
      "6                   Cohen's d =      0.0062\n",
      "7                   Hedge's g =      0.0062\n",
      "8              Glass's delta1 =      0.0061\n",
      "9            Point-Biserial r =      0.0031\n"
     ]
    }
   ],
   "source": [
    "print(results)"
   ]
  },
  {
   "cell_type": "markdown",
   "id": "26dd5b31-e796-4d28-ba91-f08a9460de0d",
   "metadata": {},
   "source": [
    "# Using scipy.stats as stats"
   ]
  },
  {
   "cell_type": "code",
   "execution_count": 6,
   "id": "51bb6f67-288d-4ee4-921d-1b870ccccf36",
   "metadata": {},
   "outputs": [
    {
     "data": {
      "text/plain": [
       "TtestResult(statistic=0.307039717019213, pvalue=0.7588196759412139, df=9784.0)"
      ]
     },
     "execution_count": 6,
     "metadata": {},
     "output_type": "execute_result"
    }
   ],
   "source": [
    "stats.ttest_ind(df['Income'][df['Gender'] == 'Male'],\n",
    "                df['Income'][df['Gender'] == 'Female'])\n"
   ]
  },
  {
   "cell_type": "markdown",
   "id": "e3bd89e2-a07e-4510-9cdd-277dac8b3589",
   "metadata": {},
   "source": [
    "# Interpretation:\n",
    "# There is not a statistically significance difference in average income between males and females, t=3070, p=0.4"
   ]
  },
  {
   "cell_type": "code",
   "execution_count": 7,
   "id": "6026177d-29ae-4788-a0be-40a8a2284625",
   "metadata": {},
   "outputs": [],
   "source": [
    "import matplotlib.pyplot as plt\n",
    "import seaborn as sns"
   ]
  },
  {
   "cell_type": "markdown",
   "id": "08f6c089-8b09-4f00-b4c1-5d175945b99f",
   "metadata": {},
   "source": [
    "# Univariate"
   ]
  },
  {
   "cell_type": "markdown",
   "id": "c6cba969-2121-4b67-8da9-dd8b31c242f2",
   "metadata": {},
   "source": [
    "# First Continuous variable is Age"
   ]
  },
  {
   "cell_type": "code",
   "execution_count": 8,
   "id": "b9af6cfd-16b6-4e94-b20a-045588e88e6c",
   "metadata": {},
   "outputs": [
    {
     "data": {
      "text/plain": [
       "(array([1067.,  977.,  981.,  988.,  998.,  977.,  970., 1007.,  948.,\n",
       "        1087.]),\n",
       " array([18. , 25.1, 32.2, 39.3, 46.4, 53.5, 60.6, 67.7, 74.8, 81.9, 89. ]),\n",
       " <BarContainer object of 10 artists>)"
      ]
     },
     "execution_count": 8,
     "metadata": {},
     "output_type": "execute_result"
    },
    {
     "data": {
      "image/png": "[encoded data removed]",
      "text/plain": [
       "<Figure size 640x480 with 1 Axes>"
      ]
     },
     "metadata": {},
     "output_type": "display_data"
    }
   ],
   "source": [
    "plt.hist(df['Age'])"
   ]
  },
  {
   "cell_type": "code",
   "execution_count": 9,
   "id": "90f44fd1-841d-439b-8687-32f7fc36e095",
   "metadata": {},
   "outputs": [
    {
     "name": "stdout",
     "output_type": "stream",
     "text": [
      "Age\n",
      "count    10000.000000\n",
      "mean        53.511700\n",
      "std         20.638538\n",
      "min         18.000000\n",
      "25%         36.000000\n",
      "50%         53.000000\n",
      "75%         71.000000\n",
      "max         89.000000\n",
      "Name: Age, dtype: float64\n"
     ]
    }
   ],
   "source": [
    "print('Age')\n",
    "print(df['Age'].describe())"
   ]
  },
  {
   "cell_type": "markdown",
   "id": "795b3931-f2bc-415c-9697-c68dd6e26dd3",
   "metadata": {},
   "source": [
    "# Second Continuous Variable"
   ]
  },
  {
   "cell_type": "code",
   "execution_count": 10,
   "id": "174a524f-1836-4e0c-af4f-170b462a91ff",
   "metadata": {},
   "outputs": [
    {
     "data": {
      "text/plain": [
       "(array([ 893., 1834., 1869., 1500., 1188.,  844.,  601.,  437.,  267.,\n",
       "         203.,  134.,   72.,   57.,   28.,   28.,   19.,   10.,    4.,\n",
       "           6.,    6.]),\n",
       " array([1.54080000e+02, 1.05088310e+04, 2.08635820e+04, 3.12183330e+04,\n",
       "        4.15730840e+04, 5.19278350e+04, 6.22825860e+04, 7.26373370e+04,\n",
       "        8.29920880e+04, 9.33468390e+04, 1.03701590e+05, 1.14056341e+05,\n",
       "        1.24411092e+05, 1.34765843e+05, 1.45120594e+05, 1.55475345e+05,\n",
       "        1.65830096e+05, 1.76184847e+05, 1.86539598e+05, 1.96894349e+05,\n",
       "        2.07249100e+05]),\n",
       " <BarContainer object of 20 artists>)"
      ]
     },
     "execution_count": 10,
     "metadata": {},
     "output_type": "execute_result"
    },
    {
     "data": {
      "image/png": "[encoded data removed]",
      "text/plain": [
       "<Figure size 640x480 with 1 Axes>"
      ]
     },
     "metadata": {},
     "output_type": "display_data"
    }
   ],
   "source": [
    "plt.hist(df['Income'], bins=20)"
   ]
  },
  {
   "cell_type": "code",
   "execution_count": 11,
   "id": "703a56f6-ac4d-422f-b22c-a6ecdd62728e",
   "metadata": {},
   "outputs": [
    {
     "name": "stdout",
     "output_type": "stream",
     "text": [
      "Income\n",
      "count     10000.000000\n",
      "mean      40490.495160\n",
      "std       28521.153293\n",
      "min         154.080000\n",
      "25%       19598.775000\n",
      "50%       33768.420000\n",
      "75%       54296.402500\n",
      "max      207249.100000\n",
      "Name: Income, dtype: float64\n"
     ]
    }
   ],
   "source": [
    "print('Income')\n",
    "print(df['Income'].describe())"
   ]
  },
  {
   "cell_type": "markdown",
   "id": "e3ba3c51-56ec-4da1-b89a-0b7721e29942",
   "metadata": {},
   "source": [
    "# First Categorical variable"
   ]
  },
  {
   "cell_type": "code",
   "execution_count": 12,
   "id": "cbcf6306-b71f-40cd-8324-262d91b352ed",
   "metadata": {},
   "outputs": [
    {
     "data": {
      "text/plain": [
       "(array([1961.,    0., 2023.,    0.,    0., 2045.,    0., 1984.,    0.,\n",
       "        1987.]),\n",
       " array([0. , 0.4, 0.8, 1.2, 1.6, 2. , 2.4, 2.8, 3.2, 3.6, 4. ]),\n",
       " <BarContainer object of 10 artists>)"
      ]
     },
     "execution_count": 12,
     "metadata": {},
     "output_type": "execute_result"
    },
    {
     "data": {
      "image/png": "[encoded data removed]",
      "text/plain": [
       "<Figure size 640x480 with 1 Axes>"
      ]
     },
     "metadata": {},
     "output_type": "display_data"
    }
   ],
   "source": [
    "plt.hist(df['Marital'])"
   ]
  },
  {
   "cell_type": "code",
   "execution_count": 13,
   "id": "30c12f1e-97ca-40e4-9c53-56bd93852c1e",
   "metadata": {},
   "outputs": [
    {
     "name": "stdout",
     "output_type": "stream",
     "text": [
      "Marital\n",
      "count       10000\n",
      "unique          5\n",
      "top       Widowed\n",
      "freq         2045\n",
      "Name: Marital, dtype: object\n"
     ]
    }
   ],
   "source": [
    "print('Marital')\n",
    "print(df['Marital'].describe())"
   ]
  },
  {
   "cell_type": "code",
   "execution_count": 14,
   "id": "30a308e1-cdb5-4504-a202-8c10d6a72747",
   "metadata": {},
   "outputs": [
    {
     "data": {
      "text/plain": [
       "(array([4768.,    0.,    0.,    0.,    0., 5018.,    0.,    0.,    0.,\n",
       "         214.]),\n",
       " array([0. , 0.2, 0.4, 0.6, 0.8, 1. , 1.2, 1.4, 1.6, 1.8, 2. ]),\n",
       " <BarContainer object of 10 artists>)"
      ]
     },
     "execution_count": 14,
     "metadata": {},
     "output_type": "execute_result"
    },
    {
     "data": {
      "image/png": "[encoded data removed]",
      "text/plain": [
       "<Figure size 640x480 with 1 Axes>"
      ]
     },
     "metadata": {},
     "output_type": "display_data"
    }
   ],
   "source": [
    "plt.hist(df['Gender'])"
   ]
  },
  {
   "cell_type": "markdown",
   "id": "af343106-c002-4313-a6c1-fdf945b8f6d8",
   "metadata": {},
   "source": [
    "# Bivariate"
   ]
  },
  {
   "cell_type": "code",
   "execution_count": 15,
   "id": "5a871590-f2db-4623-bb69-3b36cdd61250",
   "metadata": {},
   "outputs": [
    {
     "name": "stdout",
     "output_type": "stream",
     "text": [
      "Gender\n",
      "count      10000\n",
      "unique         3\n",
      "top       Female\n",
      "freq        5018\n",
      "Name: Gender, dtype: object\n"
     ]
    }
   ],
   "source": [
    "print('Gender')\n",
    "print(df['Gender'].describe())\n"
   ]
  },
  {
   "cell_type": "code",
   "execution_count": 16,
   "id": "35928770-c71e-4c73-9363-8db412f77b75",
   "metadata": {},
   "outputs": [
    {
     "name": "stdout",
     "output_type": "stream",
     "text": [
      "count     10000.000000\n",
      "mean      40490.495160\n",
      "std       28521.153293\n",
      "min         154.080000\n",
      "25%       19598.775000\n",
      "50%       33768.420000\n",
      "75%       54296.402500\n",
      "max      207249.100000\n",
      "Name: Income, dtype: float64\n"
     ]
    }
   ],
   "source": [
    "print(df['Income'].describe())"
   ]
  },
  {
   "cell_type": "code",
   "execution_count": 17,
   "id": "ab5faa6d-ded1-47fb-b9c1-a8202f0c3af8",
   "metadata": {},
   "outputs": [
    {
     "data": {
      "text/plain": [
       "<Axes: xlabel='Income', ylabel='Gender'>"
      ]
     },
     "execution_count": 17,
     "metadata": {},
     "output_type": "execute_result"
    },
    {
     "data": {
      "image/png": "[encoded data removed]",
      "text/plain": [
       "<Figure size 640x480 with 1 Axes>"
      ]
     },
     "metadata": {},
     "output_type": "display_data"
    }
   ],
   "source": [
    "sns.violinplot(x='Income', y='Gender', data=df,palette='rainbow')"
   ]
  },
  {
   "cell_type": "code",
   "execution_count": 18,
   "id": "f79c0a00-eec1-4749-ac2c-2bfc1420392b",
   "metadata": {},
   "outputs": [
    {
     "data": {
      "text/plain": [
       "<Axes: xlabel='Gender', ylabel='Income'>"
      ]
     },
     "execution_count": 18,
     "metadata": {},
     "output_type": "execute_result"
    },
    {
     "data": {
      "image/png": "[encoded data removed]",
      "text/plain": [
       "<Figure size 640x480 with 1 Axes>"
      ]
     },
     "metadata": {},
     "output_type": "display_data"
    }
   ],
   "source": [
    "sns.violinplot(x='Gender', y='Income', data=df,palette='rainbow')"
   ]
  },
  {
   "cell_type": "code",
   "execution_count": 19,
   "id": "951772fb-d975-48ac-98bb-738db13c36f6",
   "metadata": {},
   "outputs": [
    {
     "data": {
      "text/plain": [
       "<Axes: xlabel='ReAdmis', ylabel='VitD_levels'>"
      ]
     },
     "execution_count": 19,
     "metadata": {},
     "output_type": "execute_result"
    },
    {
     "data": {
      "image/png": "[encoded data removed]",
      "text/plain": [
       "<Figure size 640x480 with 1 Axes>"
      ]
     },
     "metadata": {},
     "output_type": "display_data"
    }
   ],
   "source": [
    "sns.boxplot(x='ReAdmis', y='VitD_levels', data=df)"
   ]
  },
  {
   "cell_type": "code",
   "execution_count": 20,
   "id": "ec6217ab-2d5d-4be2-8e1d-1b224cc618b3",
   "metadata": {},
   "outputs": [
    {
     "data": {
      "text/plain": [
       "<Axes: xlabel='VitD_levels', ylabel='ReAdmis'>"
      ]
     },
     "execution_count": 20,
     "metadata": {},
     "output_type": "execute_result"
    },
    {
     "data": {
      "image/png": "[encoded data removed]",
      "text/plain": [
       "<Figure size 640x480 with 1 Axes>"
      ]
     },
     "metadata": {},
     "output_type": "display_data"
    }
   ],
   "source": [
    "sns.boxplot(x='VitD_levels', y='ReAdmis', data=df)"
   ]
  },
  {
   "cell_type": "code",
   "execution_count": 21,
   "id": "30d8491c-5063-41eb-b9ff-6f957178ee9b",
   "metadata": {},
   "outputs": [
    {
     "name": "stdout",
     "output_type": "stream",
     "text": [
      "count     10000\n",
      "unique        2\n",
      "top          No\n",
      "freq       6331\n",
      "Name: ReAdmis, dtype: object\n"
     ]
    }
   ],
   "source": [
    "print(df['ReAdmis'].describe())"
   ]
  },
  {
   "cell_type": "code",
   "execution_count": 22,
   "id": "6ef0bee8-db98-4bd9-87d1-5d9bd314adf4",
   "metadata": {},
   "outputs": [
    {
     "name": "stdout",
     "output_type": "stream",
     "text": [
      "count    10000.000000\n",
      "mean        17.964262\n",
      "std          2.017231\n",
      "min          9.806483\n",
      "25%         16.626439\n",
      "50%         17.951122\n",
      "75%         19.347963\n",
      "max         26.394449\n",
      "Name: VitD_levels, dtype: float64\n"
     ]
    }
   ],
   "source": [
    "print(df['VitD_levels'].describe())"
   ]
  },
  {
   "cell_type": "code",
   "execution_count": 23,
   "id": "2718bf3f-dcd1-4f81-94ca-30e6d2b98965",
   "metadata": {},
   "outputs": [
    {
     "name": "stdout",
     "output_type": "stream",
     "text": [
      "17.964261654863\n"
     ]
    }
   ],
   "source": [
    "print(df['VitD_levels'].mean())"
   ]
  },
  {
   "cell_type": "code",
   "execution_count": 24,
   "id": "0e758448-b793-4e76-bea6-a2442752fcea",
   "metadata": {},
   "outputs": [
    {
     "data": {
      "text/html": [
       "<div>\n",
       "<style scoped>\n",
       "    .dataframe tbody tr th:only-of-type {\n",
       "        vertical-align: middle;\n",
       "    }\n",
       "\n",
       "    .dataframe tbody tr th {\n",
       "        vertical-align: top;\n",
       "    }\n",
       "\n",
       "    .dataframe thead th {\n",
       "        text-align: right;\n",
       "    }\n",
       "</style>\n",
       "<table border=\"1\" class=\"dataframe\">\n",
       "  <thead>\n",
       "    <tr style=\"text-align: right;\">\n",
       "      <th></th>\n",
       "      <th>Age</th>\n",
       "      <th>Income</th>\n",
       "      <th>Population</th>\n",
       "    </tr>\n",
       "  </thead>\n",
       "  <tbody>\n",
       "    <tr>\n",
       "      <th>Age</th>\n",
       "      <td>1.000000</td>\n",
       "      <td>-0.012228</td>\n",
       "      <td>-0.018987</td>\n",
       "    </tr>\n",
       "    <tr>\n",
       "      <th>Income</th>\n",
       "      <td>-0.012228</td>\n",
       "      <td>1.000000</td>\n",
       "      <td>0.005426</td>\n",
       "    </tr>\n",
       "    <tr>\n",
       "      <th>Population</th>\n",
       "      <td>-0.018987</td>\n",
       "      <td>0.005426</td>\n",
       "      <td>1.000000</td>\n",
       "    </tr>\n",
       "  </tbody>\n",
       "</table>\n",
       "</div>"
      ],
      "text/plain": [
       "                 Age    Income  Population\n",
       "Age         1.000000 -0.012228   -0.018987\n",
       "Income     -0.012228  1.000000    0.005426\n",
       "Population -0.018987  0.005426    1.000000"
      ]
     },
     "execution_count": 24,
     "metadata": {},
     "output_type": "execute_result"
    }
   ],
   "source": [
    "corr = df[['Age', 'Income', 'Population']].corr()\n",
    "corr"
   ]
  },
  {
   "cell_type": "markdown",
   "id": "e454b6b2-7325-4f48-82d1-36c773279bc3",
   "metadata": {},
   "source": [
    "# Let's find the strength of the relationship between two categorical variables using Chi-Square Test of independence"
   ]
  },
  {
   "cell_type": "code",
   "execution_count": 25,
   "id": "261e9648-c934-4b42-87a6-573ae0850b07",
   "metadata": {},
   "outputs": [],
   "source": [
    "from scipy.stats import chi2_contingency"
   ]
  },
  {
   "cell_type": "code",
   "execution_count": 26,
   "id": "64e75236-d8d3-4ab4-b8de-2275dc79909a",
   "metadata": {},
   "outputs": [],
   "source": [
    "# We calculate the cross_tab to determine the frequency"
   ]
  },
  {
   "cell_type": "code",
   "execution_count": 27,
   "id": "5c4eb898-61a6-4cd5-8485-6f1d8c52056a",
   "metadata": {},
   "outputs": [
    {
     "data": {
      "text/html": [
       "<div>\n",
       "<style scoped>\n",
       "    .dataframe tbody tr th:only-of-type {\n",
       "        vertical-align: middle;\n",
       "    }\n",
       "\n",
       "    .dataframe tbody tr th {\n",
       "        vertical-align: top;\n",
       "    }\n",
       "\n",
       "    .dataframe thead th {\n",
       "        text-align: right;\n",
       "    }\n",
       "</style>\n",
       "<table border=\"1\" class=\"dataframe\">\n",
       "  <thead>\n",
       "    <tr style=\"text-align: right;\">\n",
       "      <th>Marital</th>\n",
       "      <th>Divorced</th>\n",
       "      <th>Married</th>\n",
       "      <th>Never Married</th>\n",
       "      <th>Separated</th>\n",
       "      <th>Widowed</th>\n",
       "    </tr>\n",
       "    <tr>\n",
       "      <th>Gender</th>\n",
       "      <th></th>\n",
       "      <th></th>\n",
       "      <th></th>\n",
       "      <th></th>\n",
       "      <th></th>\n",
       "    </tr>\n",
       "  </thead>\n",
       "  <tbody>\n",
       "    <tr>\n",
       "      <th>Female</th>\n",
       "      <td>984</td>\n",
       "      <td>993</td>\n",
       "      <td>994</td>\n",
       "      <td>1017</td>\n",
       "      <td>1030</td>\n",
       "    </tr>\n",
       "    <tr>\n",
       "      <th>Male</th>\n",
       "      <td>922</td>\n",
       "      <td>997</td>\n",
       "      <td>957</td>\n",
       "      <td>927</td>\n",
       "      <td>965</td>\n",
       "    </tr>\n",
       "    <tr>\n",
       "      <th>Nonbinary</th>\n",
       "      <td>55</td>\n",
       "      <td>33</td>\n",
       "      <td>33</td>\n",
       "      <td>43</td>\n",
       "      <td>50</td>\n",
       "    </tr>\n",
       "  </tbody>\n",
       "</table>\n",
       "</div>"
      ],
      "text/plain": [
       "Marital    Divorced  Married  Never Married  Separated  Widowed\n",
       "Gender                                                         \n",
       "Female          984      993            994       1017     1030\n",
       "Male            922      997            957        927      965\n",
       "Nonbinary        55       33             33         43       50"
      ]
     },
     "execution_count": 27,
     "metadata": {},
     "output_type": "execute_result"
    }
   ],
   "source": [
    "cross_tab=pd.crosstab(index=df['Gender'],columns=df['Marital'])\n",
    "cross_tab"
   ]
  },
  {
   "cell_type": "code",
   "execution_count": 28,
   "id": "134fe85f-9400-4227-a167-7e9dff0f2492",
   "metadata": {},
   "outputs": [],
   "source": [
    "chi_sq_result=chi2_contingency(cross_tab)"
   ]
  },
  {
   "cell_type": "code",
   "execution_count": 29,
   "id": "9af3b3f3-d918-40c1-ba2c-4fbd85b30127",
   "metadata": {},
   "outputs": [],
   "source": [
    "p, x = chi_sq_result[1], \"reject\" if chi_sq_result[1] < 0.05 else \"accept\""
   ]
  },
  {
   "cell_type": "code",
   "execution_count": 30,
   "id": "d0f2d22d-de2b-4ac1-bcde-36609bdfaec9",
   "metadata": {},
   "outputs": [
    {
     "name": "stdout",
     "output_type": "stream",
     "text": [
      "The p-value is 0.13677965035207762 and hence we accept the null Hypothesis with 8 degrees of freedom\n"
     ]
    }
   ],
   "source": [
    "print(f\"The p-value is {chi_sq_result[1]} and hence we {x} the null Hypothesis with {chi_sq_result[2]} degrees of freedom\")"
   ]
  },
  {
   "cell_type": "code",
   "execution_count": 31,
   "id": "e1d5263d-9807-4c99-b45c-deb5de0d3a5e",
   "metadata": {},
   "outputs": [],
   "source": [
    "import numpy as np"
   ]
  },
  {
   "cell_type": "code",
   "execution_count": 32,
   "id": "f5a741ef-9ef2-43a0-9083-0c4b5d08a223",
   "metadata": {},
   "outputs": [],
   "source": [
    "#df['random'] = np.random.randint(0,3, size = df.shape[0])\n",
    "#df.head()"
   ]
  },
  {
   "cell_type": "code",
   "execution_count": 33,
   "id": "982c6185-43f4-4972-ba72-ab901765ad39",
   "metadata": {},
   "outputs": [],
   "source": [
    "def is_related(x,y):\n",
    "    ct=pd.crosstab(index=df[x],columns=df[y])\n",
    "    chi_sq_result = chi2_contingency(ct,)\n",
    "    p, x = chi_sq_result[1], \"related\" if chi_sq_result[1] < 0.05 else \"is not related\"\n",
    "    return p,x"
   ]
  },
  {
   "cell_type": "code",
   "execution_count": 34,
   "id": "f10aaa14-f4dc-429a-b10d-f00450c2c5e0",
   "metadata": {},
   "outputs": [
    {
     "data": {
      "text/plain": [
       "(0.13677965035207762, 'is not related')"
      ]
     },
     "execution_count": 34,
     "metadata": {},
     "output_type": "execute_result"
    }
   ],
   "source": [
    "is_related('Gender', 'Marital', )"
   ]
  },
  {
   "cell_type": "code",
   "execution_count": 36,
   "id": "ea60b23f-ecc6-4780-94c5-7854c148d125",
   "metadata": {},
   "outputs": [
    {
     "data": {
      "text/plain": [
       "(0.0, 'related')"
      ]
     },
     "execution_count": 36,
     "metadata": {},
     "output_type": "execute_result"
    }
   ],
   "source": [
    "is_related('City', 'State', )"
   ]
  },
  {
   "cell_type": "code",
   "execution_count": 37,
   "id": "6d70dce0-84b7-470a-9063-f4730de3ec48",
   "metadata": {},
   "outputs": [
    {
     "data": {
      "text/plain": [
       "(0.278667196190538, 'is not related')"
      ]
     },
     "execution_count": 37,
     "metadata": {},
     "output_type": "execute_result"
    }
   ],
   "source": [
    "is_related('ReAdmis', 'Marital')"
   ]
  },
  {
   "cell_type": "code",
   "execution_count": 39,
   "id": "7e921208-1444-4b0a-9605-97477e51351f",
   "metadata": {},
   "outputs": [
    {
     "data": {
      "text/plain": [
       "(0.5554604421280369, 'is not related')"
      ]
     },
     "execution_count": 39,
     "metadata": {},
     "output_type": "execute_result"
    }
   ],
   "source": [
    "is_related('Soft_drink', 'HighBlood')"
   ]
  },
  {
   "cell_type": "code",
   "execution_count": 41,
   "id": "c61a7411-8111-4d63-bd28-95808b6fab9c",
   "metadata": {},
   "outputs": [
    {
     "data": {
      "text/plain": [
       "(0.8189511056349614, 'is not related')"
      ]
     },
     "execution_count": 41,
     "metadata": {},
     "output_type": "execute_result"
    }
   ],
   "source": [
    "is_related('Anxiety', 'Diabetes')"
   ]
  },
  {
   "cell_type": "code",
   "execution_count": 38,
   "id": "90250e4a-05f7-41fe-a969-b4c49f526286",
   "metadata": {},
   "outputs": [
    {
     "name": "stdout",
     "output_type": "stream",
     "text": [
      "<class 'pandas.core.frame.DataFrame'>\n",
      "RangeIndex: 10000 entries, 0 to 9999\n",
      "Data columns (total 50 columns):\n",
      " #   Column              Non-Null Count  Dtype  \n",
      "---  ------              --------------  -----  \n",
      " 0   CaseOrder           10000 non-null  int64  \n",
      " 1   Customer_id         10000 non-null  object \n",
      " 2   Interaction         10000 non-null  object \n",
      " 3   UID                 10000 non-null  object \n",
      " 4   City                10000 non-null  object \n",
      " 5   State               10000 non-null  object \n",
      " 6   County              10000 non-null  object \n",
      " 7   Zip                 10000 non-null  int64  \n",
      " 8   Lat                 10000 non-null  float64\n",
      " 9   Lng                 10000 non-null  float64\n",
      " 10  Population          10000 non-null  int64  \n",
      " 11  Area                10000 non-null  object \n",
      " 12  TimeZone            10000 non-null  object \n",
      " 13  Job                 10000 non-null  object \n",
      " 14  Children            10000 non-null  int64  \n",
      " 15  Age                 10000 non-null  int64  \n",
      " 16  Income              10000 non-null  float64\n",
      " 17  Marital             10000 non-null  object \n",
      " 18  Gender              10000 non-null  object \n",
      " 19  ReAdmis             10000 non-null  object \n",
      " 20  VitD_levels         10000 non-null  float64\n",
      " 21  Doc_visits          10000 non-null  int64  \n",
      " 22  Full_meals_eaten    10000 non-null  int64  \n",
      " 23  vitD_supp           10000 non-null  int64  \n",
      " 24  Soft_drink          10000 non-null  object \n",
      " 25  Initial_admin       10000 non-null  object \n",
      " 26  HighBlood           10000 non-null  object \n",
      " 27  Stroke              10000 non-null  object \n",
      " 28  Complication_risk   10000 non-null  object \n",
      " 29  Overweight          10000 non-null  object \n",
      " 30  Arthritis           10000 non-null  object \n",
      " 31  Diabetes            10000 non-null  object \n",
      " 32  Hyperlipidemia      10000 non-null  object \n",
      " 33  BackPain            10000 non-null  object \n",
      " 34  Anxiety             10000 non-null  object \n",
      " 35  Allergic_rhinitis   10000 non-null  object \n",
      " 36  Reflux_esophagitis  10000 non-null  object \n",
      " 37  Asthma              10000 non-null  object \n",
      " 38  Services            10000 non-null  object \n",
      " 39  Initial_days        10000 non-null  float64\n",
      " 40  TotalCharge         10000 non-null  float64\n",
      " 41  Additional_charges  10000 non-null  float64\n",
      " 42  Item1               10000 non-null  int64  \n",
      " 43  Item2               10000 non-null  int64  \n",
      " 44  Item3               10000 non-null  int64  \n",
      " 45  Item4               10000 non-null  int64  \n",
      " 46  Item5               10000 non-null  int64  \n",
      " 47  Item6               10000 non-null  int64  \n",
      " 48  Item7               10000 non-null  int64  \n",
      " 49  Item8               10000 non-null  int64  \n",
      "dtypes: float64(7), int64(16), object(27)\n",
      "memory usage: 3.8+ MB\n"
     ]
    }
   ],
   "source": [
    "df.info()"
   ]
  }
 ],
 "metadata": {
  "kernelspec": {
   "display_name": "Python 3 (ipykernel)",
   "language": "python",
   "name": "python3"
  },
  "language_info": {
   "codemirror_mode": {
    "name": "ipython",
    "version": 3
   },
   "file_extension": ".py",
   "mimetype": "text/x-python",
   "name": "python",
   "nbconvert_exporter": "python",
   "pygments_lexer": "ipython3",
   "version": "3.11.7"
  }
 },
 "nbformat": 4,
 "nbformat_minor": 5
}
