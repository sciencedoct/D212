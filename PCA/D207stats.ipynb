{
 "cells": [
  {
   "cell_type": "markdown",
   "id": "4d0bf736-9477-4ab4-95a3-3c42588e6417",
   "metadata": {},
   "source": [
    "# ************************************************************************************************************"
   ]
  },
  {
   "cell_type": "markdown",
   "id": "4b300fe1-a9db-445b-bde2-ca7a2f3de948",
   "metadata": {},
   "source": [
    "# Dr. Kesselly Kamara\n",
    "# D207 - Exploratory Data Analysis/Descriptive Analytics\n",
    "#Considered the simplest is used on historical data to discover trends and relationships in the data.\n",
    "# 1. Select one of the following methods to perform analysis (Chi-square, ANOVA, t-test)\n",
    "# 2. Perform statistical testing by using a hypothesis.\n",
    "# 3 Hypothesis testing: is a formal process for applying statistics to examine theories about the world.\n",
    "# 4. Variable: a container that holds values (categorical/numerical data). \n",
    "# 5. Categorical: qualitative data\n",
    "# 6. Numerical: quantitative data (continuous or discrete data)\n",
    "# 8. Continuous: measurable numerical data\n",
    "# 9. Discrete: countable numerical data"
   ]
  },
  {
   "cell_type": "markdown",
   "id": "3915ab85-794f-44d4-8372-2d2e7c0247e9",
   "metadata": {},
   "source": [
    "# ********************************************************************************************************"
   ]
  },
  {
   "cell_type": "markdown",
   "id": "6aa504b4-8717-42a2-aa53-7af022634eba",
   "metadata": {},
   "source": [
    "# Steps:\n",
    "# 1. Define your practical Theory (e.g. gender is related to smoking) \n",
    "# 2. Determine the method: (e.g. Chi-square)\n",
    "# 3 State your hypothesis: (null hypothesis -Ho> gender is not related to smoking, Ha> gender is related to smoking\n",
    "# 4. The null hypothesis is rejected if the p-value < 0.05  \n",
    "# 5. Collect data (Gender and smoking and Day and Smoking)\n",
    "# 6. Hypothesis (test to reject or accept)\n",
    "# 7. Report finding: practical conclusion"
   ]
  },
  {
   "cell_type": "markdown",
   "id": "f8e27c91-830e-4914-b196-ed616254c2c5",
   "metadata": {},
   "source": [
    "# *****************************************************************************************************************"
   ]
  },
  {
   "cell_type": "markdown",
   "id": "f45868a5-1f19-480e-af5f-58f8935ae0ef",
   "metadata": {},
   "source": [
    "# Dr. Kesselly Kamara"
   ]
  },
  {
   "cell_type": "markdown",
   "id": "9c39a497-efe6-42b7-97e2-aa9946192641",
   "metadata": {},
   "source": [
    "# Python version "
   ]
  },
  {
   "cell_type": "code",
   "execution_count": 1,
   "id": "70c4abfb-d7af-4080-bfa3-45f107cd5c4c",
   "metadata": {},
   "outputs": [
    {
     "name": "stdout",
     "output_type": "stream",
     "text": [
      "3.11.7\n"
     ]
    }
   ],
   "source": [
    "from platform import python_version\n",
    "print(python_version())"
   ]
  },
  {
   "cell_type": "markdown",
   "id": "36083b9f-16fb-4953-b82e-27e15554ee03",
   "metadata": {},
   "source": [
    "# ********************************************************************************************************************"
   ]
  },
  {
   "cell_type": "markdown",
   "id": "6095dbe0-e4c0-43b9-b650-34abcf4cbf00",
   "metadata": {},
   "source": [
    "# Install and import appropriate libraries."
   ]
  },
  {
   "cell_type": "code",
   "execution_count": 2,
   "id": "789ee14f-4531-4f09-8f1c-c36b8b408611",
   "metadata": {},
   "outputs": [],
   "source": [
    "import pandas as pd\n",
    "import numpy as np\n",
    "import matplotlib.pyplot as plt\n",
    "import statsmodels.api as sm\n",
    "from statsmodels.formula.api import ols\n",
    "import seaborn as sn\n",
    "import researchpy as rp\n",
    "\n",
    "# chi-square test\n",
    "from scipy.stats import chi2_contingency\n",
    "\n",
    "# Suppress warnings\n",
    "import warnings\n",
    "warnings.filterwarnings('ignore')"
   ]
  },
  {
   "cell_type": "markdown",
   "id": "3d7d8a76-2667-4343-b4b0-8c4b527e12f9",
   "metadata": {},
   "source": [
    "# **********************************************************************************************************************"
   ]
  },
  {
   "cell_type": "markdown",
   "id": "e3de5f03-5f31-4a2e-b37e-6b877820cd28",
   "metadata": {},
   "source": [
    "# Collect Data"
   ]
  },
  {
   "cell_type": "code",
   "execution_count": 3,
   "id": "2bb81cae-9f36-40b7-bf52-0745f3625b04",
   "metadata": {},
   "outputs": [],
   "source": [
    "data=sn.load_dataset('tips')"
   ]
  },
  {
   "cell_type": "code",
   "execution_count": 4,
   "id": "b8cc97e1-ecf3-4837-ad5a-f54a67fb8bfe",
   "metadata": {},
   "outputs": [],
   "source": [
    "df = data.rename(columns={'sex':'gender', 'smoker':'smoking'}) "
   ]
  },
  {
   "cell_type": "code",
   "execution_count": 5,
   "id": "87d81799-d893-4fc8-a116-b250084b68f3",
   "metadata": {},
   "outputs": [
    {
     "data": {
      "text/html": [
       "<div>\n",
       "<style scoped>\n",
       "    .dataframe tbody tr th:only-of-type {\n",
       "        vertical-align: middle;\n",
       "    }\n",
       "\n",
       "    .dataframe tbody tr th {\n",
       "        vertical-align: top;\n",
       "    }\n",
       "\n",
       "    .dataframe thead th {\n",
       "        text-align: right;\n",
       "    }\n",
       "</style>\n",
       "<table border=\"1\" class=\"dataframe\">\n",
       "  <thead>\n",
       "    <tr style=\"text-align: right;\">\n",
       "      <th></th>\n",
       "      <th>total_bill</th>\n",
       "      <th>tip</th>\n",
       "      <th>gender</th>\n",
       "      <th>smoking</th>\n",
       "      <th>day</th>\n",
       "      <th>time</th>\n",
       "      <th>size</th>\n",
       "    </tr>\n",
       "  </thead>\n",
       "  <tbody>\n",
       "    <tr>\n",
       "      <th>0</th>\n",
       "      <td>16.99</td>\n",
       "      <td>1.01</td>\n",
       "      <td>Female</td>\n",
       "      <td>No</td>\n",
       "      <td>Sun</td>\n",
       "      <td>Dinner</td>\n",
       "      <td>2</td>\n",
       "    </tr>\n",
       "    <tr>\n",
       "      <th>1</th>\n",
       "      <td>10.34</td>\n",
       "      <td>1.66</td>\n",
       "      <td>Male</td>\n",
       "      <td>No</td>\n",
       "      <td>Sun</td>\n",
       "      <td>Dinner</td>\n",
       "      <td>3</td>\n",
       "    </tr>\n",
       "    <tr>\n",
       "      <th>2</th>\n",
       "      <td>21.01</td>\n",
       "      <td>3.50</td>\n",
       "      <td>Male</td>\n",
       "      <td>No</td>\n",
       "      <td>Sun</td>\n",
       "      <td>Dinner</td>\n",
       "      <td>3</td>\n",
       "    </tr>\n",
       "    <tr>\n",
       "      <th>3</th>\n",
       "      <td>23.68</td>\n",
       "      <td>3.31</td>\n",
       "      <td>Male</td>\n",
       "      <td>No</td>\n",
       "      <td>Sun</td>\n",
       "      <td>Dinner</td>\n",
       "      <td>2</td>\n",
       "    </tr>\n",
       "    <tr>\n",
       "      <th>4</th>\n",
       "      <td>24.59</td>\n",
       "      <td>3.61</td>\n",
       "      <td>Female</td>\n",
       "      <td>No</td>\n",
       "      <td>Sun</td>\n",
       "      <td>Dinner</td>\n",
       "      <td>4</td>\n",
       "    </tr>\n",
       "  </tbody>\n",
       "</table>\n",
       "</div>"
      ],
      "text/plain": [
       "   total_bill   tip  gender smoking  day    time  size\n",
       "0       16.99  1.01  Female      No  Sun  Dinner     2\n",
       "1       10.34  1.66    Male      No  Sun  Dinner     3\n",
       "2       21.01  3.50    Male      No  Sun  Dinner     3\n",
       "3       23.68  3.31    Male      No  Sun  Dinner     2\n",
       "4       24.59  3.61  Female      No  Sun  Dinner     4"
      ]
     },
     "execution_count": 5,
     "metadata": {},
     "output_type": "execute_result"
    }
   ],
   "source": [
    "df.head()"
   ]
  },
  {
   "cell_type": "markdown",
   "id": "a2faeb36-5b20-4530-8a56-8047ea4f3f6e",
   "metadata": {},
   "source": [
    "# *************************************************************************************************************"
   ]
  },
  {
   "cell_type": "code",
   "execution_count": 6,
   "id": "f7a9184a-37dc-45fa-9f17-1cc36752df63",
   "metadata": {},
   "outputs": [
    {
     "data": {
      "text/html": [
       "<div>\n",
       "<style scoped>\n",
       "    .dataframe tbody tr th:only-of-type {\n",
       "        vertical-align: middle;\n",
       "    }\n",
       "\n",
       "    .dataframe tbody tr th {\n",
       "        vertical-align: top;\n",
       "    }\n",
       "\n",
       "    .dataframe thead th {\n",
       "        text-align: right;\n",
       "    }\n",
       "</style>\n",
       "<table border=\"1\" class=\"dataframe\">\n",
       "  <thead>\n",
       "    <tr style=\"text-align: right;\">\n",
       "      <th>smoking</th>\n",
       "      <th>Yes</th>\n",
       "      <th>No</th>\n",
       "    </tr>\n",
       "    <tr>\n",
       "      <th>day</th>\n",
       "      <th></th>\n",
       "      <th></th>\n",
       "    </tr>\n",
       "  </thead>\n",
       "  <tbody>\n",
       "    <tr>\n",
       "      <th>Thur</th>\n",
       "      <td>17</td>\n",
       "      <td>45</td>\n",
       "    </tr>\n",
       "    <tr>\n",
       "      <th>Fri</th>\n",
       "      <td>15</td>\n",
       "      <td>4</td>\n",
       "    </tr>\n",
       "    <tr>\n",
       "      <th>Sat</th>\n",
       "      <td>42</td>\n",
       "      <td>45</td>\n",
       "    </tr>\n",
       "    <tr>\n",
       "      <th>Sun</th>\n",
       "      <td>19</td>\n",
       "      <td>57</td>\n",
       "    </tr>\n",
       "  </tbody>\n",
       "</table>\n",
       "</div>"
      ],
      "text/plain": [
       "smoking  Yes  No\n",
       "day             \n",
       "Thur      17  45\n",
       "Fri       15   4\n",
       "Sat       42  45\n",
       "Sun       19  57"
      ]
     },
     "execution_count": 6,
     "metadata": {},
     "output_type": "execute_result"
    }
   ],
   "source": [
    "# Calculate the cross_tab to determine frequencies\n",
    "cross_tab=pd.crosstab(index=df['day'],columns=df['smoking'])\n",
    "cross_tab"
   ]
  },
  {
   "cell_type": "code",
   "execution_count": 7,
   "id": "7e4b52d9-96c1-40d8-8824-bb9abf5869df",
   "metadata": {},
   "outputs": [],
   "source": [
    "chi_result=chi2_contingency(cross_tab)"
   ]
  },
  {
   "cell_type": "code",
   "execution_count": 8,
   "id": "8cafb50b-4861-4c53-b51f-e257128c3633",
   "metadata": {},
   "outputs": [],
   "source": [
    "def is_related(x,y):\n",
    "    ct=pd.crosstab(index=df[x],columns=df[y])\n",
    "    chi_result=chi2_contingency(ct)\n",
    "    p, x=chi_result[1], \"related\" if chi_result[1] < 0.05 else \"is not related\"\n",
    "    return p,x"
   ]
  },
  {
   "cell_type": "code",
   "execution_count": 14,
   "id": "91b83243-872b-4cf1-8061-e4f007859f5d",
   "metadata": {},
   "outputs": [
    {
     "data": {
      "text/plain": [
       "(1.0567572499836523e-05, 'related')"
      ]
     },
     "execution_count": 14,
     "metadata": {},
     "output_type": "execute_result"
    }
   ],
   "source": [
    "is_related('day', 'smoking') # Cannot reject the null hypothesis. Practical conclusion day has no impact on smoking."
   ]
  },
  {
   "cell_type": "markdown",
   "id": "a4e26aa5-3b81-42ec-8c42-2cad8ca77a87",
   "metadata": {},
   "source": [
    "# *******************************************************************************************************************"
   ]
  },
  {
   "cell_type": "markdown",
   "id": "011c5398-c703-419c-9a04-bd3de3915488",
   "metadata": {},
   "source": [
    "# ANOVA - Analysis of variance"
   ]
  },
  {
   "cell_type": "code",
   "execution_count": 11,
   "id": "48d0f378-5c15-4f35-aac2-a55cc1d92700",
   "metadata": {},
   "outputs": [
    {
     "data": {
      "text/html": [
       "<div>\n",
       "<style scoped>\n",
       "    .dataframe tbody tr th:only-of-type {\n",
       "        vertical-align: middle;\n",
       "    }\n",
       "\n",
       "    .dataframe tbody tr th {\n",
       "        vertical-align: top;\n",
       "    }\n",
       "\n",
       "    .dataframe thead th {\n",
       "        text-align: right;\n",
       "    }\n",
       "</style>\n",
       "<table border=\"1\" class=\"dataframe\">\n",
       "  <thead>\n",
       "    <tr style=\"text-align: right;\">\n",
       "      <th></th>\n",
       "      <th>carat</th>\n",
       "      <th>cut</th>\n",
       "      <th>color</th>\n",
       "      <th>clarity</th>\n",
       "      <th>depth</th>\n",
       "      <th>table</th>\n",
       "      <th>price</th>\n",
       "      <th>x</th>\n",
       "      <th>y</th>\n",
       "      <th>z</th>\n",
       "    </tr>\n",
       "  </thead>\n",
       "  <tbody>\n",
       "    <tr>\n",
       "      <th>0</th>\n",
       "      <td>0.23</td>\n",
       "      <td>Ideal</td>\n",
       "      <td>E</td>\n",
       "      <td>SI2</td>\n",
       "      <td>61.5</td>\n",
       "      <td>55.0</td>\n",
       "      <td>326</td>\n",
       "      <td>3.95</td>\n",
       "      <td>3.98</td>\n",
       "      <td>2.43</td>\n",
       "    </tr>\n",
       "    <tr>\n",
       "      <th>1</th>\n",
       "      <td>0.21</td>\n",
       "      <td>Premium</td>\n",
       "      <td>E</td>\n",
       "      <td>SI1</td>\n",
       "      <td>59.8</td>\n",
       "      <td>61.0</td>\n",
       "      <td>326</td>\n",
       "      <td>3.89</td>\n",
       "      <td>3.84</td>\n",
       "      <td>2.31</td>\n",
       "    </tr>\n",
       "    <tr>\n",
       "      <th>2</th>\n",
       "      <td>0.23</td>\n",
       "      <td>Good</td>\n",
       "      <td>E</td>\n",
       "      <td>VS1</td>\n",
       "      <td>56.9</td>\n",
       "      <td>65.0</td>\n",
       "      <td>327</td>\n",
       "      <td>4.05</td>\n",
       "      <td>4.07</td>\n",
       "      <td>2.31</td>\n",
       "    </tr>\n",
       "    <tr>\n",
       "      <th>3</th>\n",
       "      <td>0.29</td>\n",
       "      <td>Premium</td>\n",
       "      <td>I</td>\n",
       "      <td>VS2</td>\n",
       "      <td>62.4</td>\n",
       "      <td>58.0</td>\n",
       "      <td>334</td>\n",
       "      <td>4.20</td>\n",
       "      <td>4.23</td>\n",
       "      <td>2.63</td>\n",
       "    </tr>\n",
       "    <tr>\n",
       "      <th>4</th>\n",
       "      <td>0.31</td>\n",
       "      <td>Good</td>\n",
       "      <td>J</td>\n",
       "      <td>SI2</td>\n",
       "      <td>63.3</td>\n",
       "      <td>58.0</td>\n",
       "      <td>335</td>\n",
       "      <td>4.34</td>\n",
       "      <td>4.35</td>\n",
       "      <td>2.75</td>\n",
       "    </tr>\n",
       "  </tbody>\n",
       "</table>\n",
       "</div>"
      ],
      "text/plain": [
       "   carat      cut color clarity  depth  table  price     x     y     z\n",
       "0   0.23    Ideal     E     SI2   61.5   55.0    326  3.95  3.98  2.43\n",
       "1   0.21  Premium     E     SI1   59.8   61.0    326  3.89  3.84  2.31\n",
       "2   0.23     Good     E     VS1   56.9   65.0    327  4.05  4.07  2.31\n",
       "3   0.29  Premium     I     VS2   62.4   58.0    334  4.20  4.23  2.63\n",
       "4   0.31     Good     J     SI2   63.3   58.0    335  4.34  4.35  2.75"
      ]
     },
     "execution_count": 11,
     "metadata": {},
     "output_type": "execute_result"
    }
   ],
   "source": [
    "da=sn.load_dataset('diamonds')\n",
    "da.head()"
   ]
  },
  {
   "cell_type": "markdown",
   "id": "87bdb4e7-0f3c-4f5d-aae9-c3840d42c7a1",
   "metadata": {},
   "source": [
    "# ANOVA or Analysis of Variance test to see if there are differences between two groups. \n",
    "#Ho hypothesis is there is no association among the variables. "
   ]
  },
  {
   "cell_type": "markdown",
   "id": "701da324-d625-44a5-bfbd-0e48ab23ec71",
   "metadata": {},
   "source": [
    "# One-way ANOVA has one independent categorical variables "
   ]
  },
  {
   "cell_type": "code",
   "execution_count": 33,
   "id": "2bafd091-d23b-4c50-bad1-c7eb5c981b29",
   "metadata": {},
   "outputs": [
    {
     "data": {
      "text/html": [
       "<div>\n",
       "<style scoped>\n",
       "    .dataframe tbody tr th:only-of-type {\n",
       "        vertical-align: middle;\n",
       "    }\n",
       "\n",
       "    .dataframe tbody tr th {\n",
       "        vertical-align: top;\n",
       "    }\n",
       "\n",
       "    .dataframe thead th {\n",
       "        text-align: right;\n",
       "    }\n",
       "</style>\n",
       "<table border=\"1\" class=\"dataframe\">\n",
       "  <thead>\n",
       "    <tr style=\"text-align: right;\">\n",
       "      <th></th>\n",
       "      <th>price</th>\n",
       "      <th>cut</th>\n",
       "      <th>clarity</th>\n",
       "      <th>depth</th>\n",
       "      <th>table</th>\n",
       "    </tr>\n",
       "  </thead>\n",
       "  <tbody>\n",
       "    <tr>\n",
       "      <th>0</th>\n",
       "      <td>326</td>\n",
       "      <td>Ideal</td>\n",
       "      <td>SI2</td>\n",
       "      <td>61.5</td>\n",
       "      <td>55.0</td>\n",
       "    </tr>\n",
       "    <tr>\n",
       "      <th>1</th>\n",
       "      <td>326</td>\n",
       "      <td>Premium</td>\n",
       "      <td>SI1</td>\n",
       "      <td>59.8</td>\n",
       "      <td>61.0</td>\n",
       "    </tr>\n",
       "    <tr>\n",
       "      <th>2</th>\n",
       "      <td>327</td>\n",
       "      <td>Good</td>\n",
       "      <td>VS1</td>\n",
       "      <td>56.9</td>\n",
       "      <td>65.0</td>\n",
       "    </tr>\n",
       "    <tr>\n",
       "      <th>3</th>\n",
       "      <td>334</td>\n",
       "      <td>Premium</td>\n",
       "      <td>VS2</td>\n",
       "      <td>62.4</td>\n",
       "      <td>58.0</td>\n",
       "    </tr>\n",
       "    <tr>\n",
       "      <th>4</th>\n",
       "      <td>335</td>\n",
       "      <td>Good</td>\n",
       "      <td>SI2</td>\n",
       "      <td>63.3</td>\n",
       "      <td>58.0</td>\n",
       "    </tr>\n",
       "  </tbody>\n",
       "</table>\n",
       "</div>"
      ],
      "text/plain": [
       "   price      cut clarity  depth  table\n",
       "0    326    Ideal     SI2   61.5   55.0\n",
       "1    326  Premium     SI1   59.8   61.0\n",
       "2    327     Good     VS1   56.9   65.0\n",
       "3    334  Premium     VS2   62.4   58.0\n",
       "4    335     Good     SI2   63.3   58.0"
      ]
     },
     "execution_count": 33,
     "metadata": {},
     "output_type": "execute_result"
    }
   ],
   "source": [
    "df=da[['price','cut', 'clarity', 'depth', 'table' ]]\n",
    "df.head()"
   ]
  },
  {
   "cell_type": "code",
   "execution_count": 29,
   "id": "d19db591-6d67-4dc3-a275-820338d897ee",
   "metadata": {},
   "outputs": [
    {
     "data": {
      "text/html": [
       "<div>\n",
       "<style scoped>\n",
       "    .dataframe tbody tr th:only-of-type {\n",
       "        vertical-align: middle;\n",
       "    }\n",
       "\n",
       "    .dataframe tbody tr th {\n",
       "        vertical-align: top;\n",
       "    }\n",
       "\n",
       "    .dataframe thead th {\n",
       "        text-align: right;\n",
       "    }\n",
       "</style>\n",
       "<table border=\"1\" class=\"dataframe\">\n",
       "  <thead>\n",
       "    <tr style=\"text-align: right;\">\n",
       "      <th></th>\n",
       "      <th>df</th>\n",
       "      <th>sum_sq</th>\n",
       "      <th>mean_sq</th>\n",
       "      <th>F</th>\n",
       "      <th>PR(&gt;F)</th>\n",
       "    </tr>\n",
       "  </thead>\n",
       "  <tbody>\n",
       "    <tr>\n",
       "      <th>day</th>\n",
       "      <td>3.0</td>\n",
       "      <td>9.525873</td>\n",
       "      <td>3.175291</td>\n",
       "      <td>1.672355</td>\n",
       "      <td>0.173589</td>\n",
       "    </tr>\n",
       "    <tr>\n",
       "      <th>Residual</th>\n",
       "      <td>240.0</td>\n",
       "      <td>455.686604</td>\n",
       "      <td>1.898694</td>\n",
       "      <td>NaN</td>\n",
       "      <td>NaN</td>\n",
       "    </tr>\n",
       "  </tbody>\n",
       "</table>\n",
       "</div>"
      ],
      "text/plain": [
       "             df      sum_sq   mean_sq         F    PR(>F)\n",
       "day         3.0    9.525873  3.175291  1.672355  0.173589\n",
       "Residual  240.0  455.686604  1.898694       NaN       NaN"
      ]
     },
     "execution_count": 29,
     "metadata": {},
     "output_type": "execute_result"
    }
   ],
   "source": [
    "one_way=ols('tip~day',data=df).fit()\n",
    "one_ano=sm.stats.anova_lm(one_way, type=2)\n",
    "one_ano"
   ]
  },
  {
   "cell_type": "markdown",
   "id": "3be68272-e15a-4070-97f3-f78f4f8b7daf",
   "metadata": {},
   "source": [
    "# Two-way ANOVA has two independent categorical variables\n",
    "#https://www.scribbr.com/statistics/one-way-anova/"
   ]
  },
  {
   "cell_type": "code",
   "execution_count": 32,
   "id": "7bfba5fa-cbb1-4ea6-bf64-e914dcb54614",
   "metadata": {},
   "outputs": [
    {
     "data": {
      "text/html": [
       "<div>\n",
       "<style scoped>\n",
       "    .dataframe tbody tr th:only-of-type {\n",
       "        vertical-align: middle;\n",
       "    }\n",
       "\n",
       "    .dataframe tbody tr th {\n",
       "        vertical-align: top;\n",
       "    }\n",
       "\n",
       "    .dataframe thead th {\n",
       "        text-align: right;\n",
       "    }\n",
       "</style>\n",
       "<table border=\"1\" class=\"dataframe\">\n",
       "  <thead>\n",
       "    <tr style=\"text-align: right;\">\n",
       "      <th></th>\n",
       "      <th>df</th>\n",
       "      <th>sum_sq</th>\n",
       "      <th>mean_sq</th>\n",
       "      <th>F</th>\n",
       "      <th>PR(&gt;F)</th>\n",
       "    </tr>\n",
       "  </thead>\n",
       "  <tbody>\n",
       "    <tr>\n",
       "      <th>gender</th>\n",
       "      <td>1.0</td>\n",
       "      <td>3.673534</td>\n",
       "      <td>3.673534</td>\n",
       "      <td>1.933473</td>\n",
       "      <td>0.165672</td>\n",
       "    </tr>\n",
       "    <tr>\n",
       "      <th>day</th>\n",
       "      <td>3.0</td>\n",
       "      <td>7.446900</td>\n",
       "      <td>2.482300</td>\n",
       "      <td>1.306497</td>\n",
       "      <td>0.272937</td>\n",
       "    </tr>\n",
       "    <tr>\n",
       "      <th>Residual</th>\n",
       "      <td>239.0</td>\n",
       "      <td>454.092042</td>\n",
       "      <td>1.899967</td>\n",
       "      <td>NaN</td>\n",
       "      <td>NaN</td>\n",
       "    </tr>\n",
       "  </tbody>\n",
       "</table>\n",
       "</div>"
      ],
      "text/plain": [
       "             df      sum_sq   mean_sq         F    PR(>F)\n",
       "gender      1.0    3.673534  3.673534  1.933473  0.165672\n",
       "day         3.0    7.446900  2.482300  1.306497  0.272937\n",
       "Residual  239.0  454.092042  1.899967       NaN       NaN"
      ]
     },
     "execution_count": 32,
     "metadata": {},
     "output_type": "execute_result"
    }
   ],
   "source": [
    "anov2=ols('tip~gender+day', data=df).fit()\n",
    "t_way=sm.stats.anova_lm(anov2, type=2)\n",
    "t_way"
   ]
  },
  {
   "cell_type": "markdown",
   "id": "e67218cd-2350-4331-a785-4e16c66498b1",
   "metadata": {},
   "source": [
    "# *******************************************************************"
   ]
  },
  {
   "cell_type": "code",
   "execution_count": 16,
   "id": "7af2301a-2125-49e0-b6d7-47ce7cccb896",
   "metadata": {},
   "outputs": [],
   "source": [
    "def plot_hist(col_name, num_bins, do_rotate=False):\n",
    "     plt.hist(data[col_name], bins=num_bins)\n",
    "     plt.xlabel(col_name)\n",
    "     plt.ylabel('Frequency')\n",
    "     plt.title(f'Histogram of {col_name}')\n",
    "     if do_rotate:\n",
    "         plt.xticks(rotation=90)\n",
    "     plt.show()\n",
    "    \n",
    "#function to describe column\n",
    "def print_desc(col_name):\n",
    " print(data[col_name].describe())"
   ]
  },
  {
   "cell_type": "markdown",
   "id": "bdfdf95b-51c1-4795-9ce1-17fd6c2192a1",
   "metadata": {},
   "source": [
    "# The t-test is used to test the evaluate a population means"
   ]
  },
  {
   "cell_type": "markdown",
   "id": "6bc0f363-2b4a-440b-a521-714b63d98f74",
   "metadata": {},
   "source": [
    "# One Sample t-test \n",
    "#One-sample t-test is used to evaluate a population means using a single sample.\n",
    "\n",
    "#Problem: Five diabetes patients were randomly selected from a treatment. The doctor wants patients to have a glucose score of 110\n",
    "\n",
    "#The Five patients glucose are 80, 90, 135, 140, 150. Can the doctor be 95% confident that the glucose average is 110\n",
    "\n",
    "#Ho =  The group means is 110\n",
    "\n",
    "#Ha = the means is not 110"
   ]
  },
  {
   "cell_type": "code",
   "execution_count": 17,
   "id": "2cebf42e-e92b-4468-8375-567cfb816cd9",
   "metadata": {},
   "outputs": [
    {
     "data": {
      "text/plain": [
       "TtestResult(statistic=0.6348110542727384, pvalue=0.5600471348994379, df=4)"
      ]
     },
     "execution_count": 17,
     "metadata": {},
     "output_type": "execute_result"
    }
   ],
   "source": [
    "from scipy import stats as st\n",
    "glucose = [80, 90, 135, 140, 150]\n",
    "one_sample=st.ttest_1samp(glucose, 110)\n",
    "one_sample"
   ]
  },
  {
   "cell_type": "markdown",
   "id": "d8e081e9-5159-496a-a28c-7ff2a0153c16",
   "metadata": {},
   "source": [
    "# ------------------------------------------------------------------------------------------------------------------"
   ]
  },
  {
   "cell_type": "markdown",
   "id": "92884f94-e220-4193-8cdc-16576ffdd929",
   "metadata": {},
   "source": [
    "# Two Sample t-test \n",
    "#two-sample t-test is used to evaluate a population means using more than one sample."
   ]
  },
  {
   "cell_type": "code",
   "execution_count": 43,
   "id": "b5f4def1-d2e5-4d98-a989-fbe1bc98f84e",
   "metadata": {},
   "outputs": [
    {
     "data": {
      "text/plain": [
       "(   Variable      N      Mean        SD        SE  95% Conf.  Interval\n",
       " 0      Male  157.0  3.089618  1.489102  0.118843   2.854868  3.324367\n",
       " 1    Female   87.0  2.833448  1.159495  0.124311   2.586326  3.080570\n",
       " 2  combined  244.0  2.998279  1.383638  0.088578   2.823799  3.172758,\n",
       "               Independent t-test   results\n",
       " 0  Difference (Male - Female) =     0.2562\n",
       " 1          Degrees of freedom =   242.0000\n",
       " 2                           t =     1.3879\n",
       " 3       Two side test p value =     0.1665\n",
       " 4      Difference < 0 p value =     0.9168\n",
       " 5      Difference > 0 p value =     0.0832\n",
       " 6                   Cohen's d =     0.1855\n",
       " 7                   Hedge's g =     0.1849\n",
       " 8              Glass's delta1 =     0.1720\n",
       " 9            Point-Biserial r =     0.0889)"
      ]
     },
     "execution_count": 43,
     "metadata": {},
     "output_type": "execute_result"
    }
   ],
   "source": [
    "two_sample=rp.ttest(group1= data['tip'][data['sex'] == 'Male'], group1_name= \"Male\",\n",
    "         group2= data['tip'][data['sex'] == 'Female'], group2_name= \"Female\")\n",
    "two_sample"
   ]
  }
 ],
 "metadata": {
  "kernelspec": {
   "display_name": "Python 3 (ipykernel)",
   "language": "python",
   "name": "python3"
  },
  "language_info": {
   "codemirror_mode": {
    "name": "ipython",
    "version": 3
   },
   "file_extension": ".py",
   "mimetype": "text/x-python",
   "name": "python",
   "nbconvert_exporter": "python",
   "pygments_lexer": "ipython3",
   "version": "3.11.7"
  }
 },
 "nbformat": 4,
 "nbformat_minor": 5
}
