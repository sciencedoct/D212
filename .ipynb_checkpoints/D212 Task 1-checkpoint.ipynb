{
 "cells": [
  {
   "cell_type": "markdown",
   "id": "acb34db8",
   "metadata": {},
   "source": [
    "### A1. Research Question\n",
    "\n",
    "The question I inted to answer as a result of this analysis is the following: \n",
    "\n",
    "Can we determine patterns or correlations within the churn customer survey data using k-means clustering."
   ]
  },
  {
   "cell_type": "markdown",
   "id": "141eb479",
   "metadata": {},
   "source": [
    "### A2. Defined Goal\n",
    "\n",
    "One of the main priorities within an organization is to retain its customers. This isn't only cost effective, as it is more expensive to obtain new customers as opposed to retaining them, but it also speaks to customer satisfaction. The intent here is to use K-means clustering to group these survey responses and find patterns or correlations between them. If patterns can be revealed, perhaps the company can take steps to improve efficiencies, member satisfaction, or any negative impacts that are found. For example, increased customer satisfaction would mean decreased customer churn, and therefore a cost reduction in terms of profit/growth. "
   ]
  },
  {
   "cell_type": "markdown",
   "id": "374010f1",
   "metadata": {},
   "source": [
    "### B1. Explaination of Clustering Technique\n",
    "\n",
    "K-means clustering is a popular unsupervised machine learning algorithm used for partitioning a dataset into a pre-defined number of clusters (Sharma 6/24/2024). Similar to K-nearest neighbor utilized in previous classes, k-means clustering assigns datapoints to the nearest randomly issued group, or centroid. K-means then reissues these centroids based on the mean of the datapoints in the group. This process repeats itself until there is no longer sigificant change, therefore resulting in these centroids, or groups, having datapoints assigned to them based on similarity. The expected outcome in our case is to distinguish our value of k through the elbow method, generate our clusters, and get various scoring metrics which will help determine the significance of each cluster."
   ]
  },
  {
   "cell_type": "markdown",
   "id": "6f1c3c6e",
   "metadata": {},
   "source": [
    "### B2. Summary of Technique Assumptions\n",
    "\n",
    "Among various assumptions for k-means clustering, one of the assumptions is that of the cluster sizes. According to one article, \"clusters with more data points will affect the cluster mean more because the algorithm assigns each data point to the cluster with the closest mean. The algorithm might not correct depict the underlying data distribution if the clusters have sizes that are significantly out of balance.\" (GeeksforGeeks)"
   ]
  },
  {
   "cell_type": "markdown",
   "id": "b8a8a35a",
   "metadata": {},
   "source": [
    "### B3. Packages or Libraries List\n",
    "\n",
    "I chose to use Python because it is a fantastic language that supports data science through it's robust packages that can be imported. For example, I can utilize pandas, numpy, seaborn, matplotlib, and much more, to provide tools for a smoother analysis with visualizations or building my models. All of these packages will be used in the proceeding code to provide me with options when answering the research question. The 2nd reason I chose python is because of it's visualizations. In my opinion, the packages help with generating the arithmatic behind the code, but the visualizations are user friendly and can be easily interpreted. My familiarity with Python throughout the past few courses and preceeding WGU also provides me benefit as I can focus on the analysis, rather than learning a new language alongside it. As it stands, I will be using the below packages.\n",
    "\n",
    "\n",
    "-Pandas: Standard package I've been using that handling the structure of the data, such as working it into a dataframe. \n",
    "\n",
    "-Numpy: Provides tools to perform arithmatic on the dataset for the analysis.\n",
    "\n",
    "-MatPlotLib: Visualizations/Graphing.\n",
    "\n",
    "-Seaborn: Visualization/Graphing.\n",
    "\n",
    "-Scikit Learn: Specifically the silhouette score needed for the analysis. "
   ]
  },
  {
   "cell_type": "markdown",
   "id": "c7e1ef96",
   "metadata": {},
   "source": [
    "### C1. Data Preprocessing\n",
    "\n",
    "The primary goal of the preprocessing step in this analysis is going to be reducing our dataset. The original Churn dataset has well over 40 columns, but we only need a handful of these fields to perform the analysis. This is a similar approach taken in prior classes, which allows for a cleaner, more efficient process when performing analysis without cluttering up the dataframe with unused fields. "
   ]
  },
  {
   "cell_type": "markdown",
   "id": "7c398c6f",
   "metadata": {},
   "source": [
    "### C2. Data Set Variables\n",
    "\n",
    "Variables:\n",
    "\n",
    "Item1 - Continuous\n",
    "Item2 - Continuous\n",
    "Item3 - Continuous\n",
    "Item4 - Continuous\n",
    "Item5 - Continuous\n",
    "Item6 - Continuous\n",
    "Item7 - Continuous\n",
    "Item8 - Continuous"
   ]
  },
  {
   "cell_type": "markdown",
   "id": "f6e017cd",
   "metadata": {},
   "source": [
    "### C3. Steps for Analysis"
   ]
  },
  {
   "cell_type": "code",
   "execution_count": 1,
   "id": "58b6b01a",
   "metadata": {},
   "outputs": [],
   "source": [
    "#Importing required packages\n",
    "\n",
    "import pandas as pd\n",
    "import numpy as np\n",
    "import seaborn as sns\n",
    "import matplotlib.pyplot as plt\n",
    "from sklearn.cluster import KMeans\n",
    "from sklearn import metrics\n",
    "from sklearn.metrics import silhouette_score, adjusted_rand_score, davies_bouldin_score\n",
    "from scipy import stats"
   ]
  },
  {
   "cell_type": "code",
   "execution_count": 2,
   "id": "13bd0011",
   "metadata": {},
   "outputs": [],
   "source": [
    "#setup the directory, dataframe, and import the data\n",
    "\n",
    "import os\n",
    "\n",
    "os. getcwd()\n",
    "\n",
    "os.chdir('C:/Users/seile/OneDrive/Desktop/WGU MSDA/D212/Task 1')\n",
    "\n",
    "df = pd.read_csv(\"churn_clean.csv\", keep_default_na=False, index_col=0)"
   ]
  },
  {
   "cell_type": "code",
   "execution_count": 3,
   "id": "20fb323b",
   "metadata": {},
   "outputs": [],
   "source": [
    "#rename survey data to match data dictionary\n",
    "\n",
    "surv_header = {\n",
    "    \n",
    "    'Item1' : 'timely_response',\n",
    "    'Item2' : 'timely_fixes',\n",
    "    'Item3' : 'timely_replacements',\n",
    "    'Item4' : 'reliability',\n",
    "    'Item5' : 'options',\n",
    "    'Item6' : 'respectful_response',\n",
    "    'Item7' : 'courteous_exchange',\n",
    "    'Item8' : 'active_listening'\n",
    "}\n",
    "\n",
    "df.rename(columns=surv_header, inplace = True)"
   ]
  },
  {
   "cell_type": "code",
   "execution_count": 4,
   "id": "178fdf00",
   "metadata": {},
   "outputs": [],
   "source": [
    "#changing survey response data types\n",
    "\n",
    "df_col = df.astype({\n",
    "\n",
    "'timely_response': np.float64,\n",
    "'timely_fixes' : np.float64,\n",
    "'timely_replacements' : np.float64,\n",
    "'reliability' : np.float64,\n",
    "'options' : np.float64,\n",
    "'respectful_response' : np.float64,\n",
    "'courteous_exchange' : np.float64,\n",
    "'active_listening' : np.float64,\n",
    "\n",
    "}, copy = False)"
   ]
  },
  {
   "cell_type": "code",
   "execution_count": 5,
   "id": "1bfe691a",
   "metadata": {},
   "outputs": [],
   "source": [
    "#Creating a dataframe with only the fields relevant to this analysis\n",
    "\n",
    "df_final = df[[\"timely_response\", \"timely_fixes\", \"timely_replacements\", \"reliability\", \"options\", \"respectful_response\",\n",
    "             \"courteous_exchange\", \"active_listening\"]]"
   ]
  },
  {
   "cell_type": "code",
   "execution_count": 6,
   "id": "dec65513",
   "metadata": {},
   "outputs": [
    {
     "name": "stdout",
     "output_type": "stream",
     "text": [
      "<class 'pandas.core.frame.DataFrame'>\n",
      "Index: 10000 entries, 1 to 10000\n",
      "Data columns (total 8 columns):\n",
      " #   Column               Non-Null Count  Dtype\n",
      "---  ------               --------------  -----\n",
      " 0   timely_response      10000 non-null  int64\n",
      " 1   timely_fixes         10000 non-null  int64\n",
      " 2   timely_replacements  10000 non-null  int64\n",
      " 3   reliability          10000 non-null  int64\n",
      " 4   options              10000 non-null  int64\n",
      " 5   respectful_response  10000 non-null  int64\n",
      " 6   courteous_exchange   10000 non-null  int64\n",
      " 7   active_listening     10000 non-null  int64\n",
      "dtypes: int64(8)\n",
      "memory usage: 703.1 KB\n"
     ]
    }
   ],
   "source": [
    "#Checking for null values\n",
    "\n",
    "df_final.info()"
   ]
  },
  {
   "cell_type": "code",
   "execution_count": 7,
   "id": "16760008",
   "metadata": {},
   "outputs": [],
   "source": [
    "### C4. Cleaned Data Set\n",
    "\n",
    "df_final.to_csv('D212_Task1_Dataset.csv', index=False)"
   ]
  },
  {
   "cell_type": "markdown",
   "id": "a3ad469e",
   "metadata": {},
   "source": [
    "### D1. Output and Intermediate Calculations"
   ]
  },
  {
   "cell_type": "code",
   "execution_count": 8,
   "id": "b29265a6",
   "metadata": {},
   "outputs": [
    {
     "data": {
      "image/png": "[encoded data removed]",
      "text/plain": [
       "<Figure size 640x480 with 1 Axes>"
      ]
     },
     "metadata": {},
     "output_type": "display_data"
    }
   ],
   "source": [
    "#Determing number of clusters, or k, through inertia\n",
    "\n",
    "inertia = []\n",
    "for i in range(1,10):\n",
    "    kmeanModel = KMeans(n_clusters=i, n_init=10)\n",
    "    kmeanModel.fit(df_final)\n",
    "    inertia.append(kmeanModel.inertia_)\n",
    "    \n",
    "#Plotting the elbow graph\n",
    "plt.plot(range(1,10), inertia, 'o-', linewidth=3, color='blue')\n",
    "plt.xlabel('K (Number of Clusters)')\n",
    "plt.ylabel('Inertia')\n",
    "plt.show()"
   ]
  },
  {
   "cell_type": "code",
   "execution_count": 9,
   "id": "6d1114bd",
   "metadata": {},
   "outputs": [
    {
     "name": "stderr",
     "output_type": "stream",
     "text": [
      "C:\\Users\\seile\\anaconda3\\Lib\\site-packages\\sklearn\\cluster\\_kmeans.py:1412: FutureWarning: The default value of `n_init` will change from 10 to 'auto' in 1.4. Set the value of `n_init` explicitly to suppress the warning\n",
      "  super()._check_params_vs_input(X, default_n_init=10)\n"
     ]
    },
    {
     "data": {
      "text/plain": [
       "array([1, 0, 0, ..., 1, 1, 0])"
      ]
     },
     "execution_count": 9,
     "metadata": {},
     "output_type": "execute_result"
    }
   ],
   "source": [
    "#creating the KMeans cluster\n",
    "model = KMeans(n_clusters=2)\n",
    "model.fit(df_final)\n",
    "model.labels_"
   ]
  },
  {
   "cell_type": "code",
   "execution_count": 10,
   "id": "38d032f7",
   "metadata": {},
   "outputs": [
    {
     "data": {
      "text/plain": [
       "array([[2.84003925, 2.89165849, 2.92561335, 3.29656526, 3.74052993,\n",
       "        2.93699706, 3.02041217, 3.07262022],\n",
       "       [4.1667686 , 4.14230377, 4.07013252, 3.70621814, 3.23567788,\n",
       "        4.07930683, 4.01753313, 3.93496432]])"
      ]
     },
     "execution_count": 10,
     "metadata": {},
     "output_type": "execute_result"
    }
   ],
   "source": [
    "#Generating the clusters\n",
    "\n",
    "model.cluster_centers_"
   ]
  },
  {
   "cell_type": "code",
   "execution_count": 11,
   "id": "c085a355",
   "metadata": {},
   "outputs": [
    {
     "name": "stdout",
     "output_type": "stream",
     "text": [
      "cluster # = 2, returning a silhouette score of 0.20229678323339656\n",
      "cluster # = 3, returning a silhouette score of 0.15640103556660012\n",
      "cluster # = 4, returning a silhouette score of 0.13962351912499552\n",
      "cluster # = 5, returning a silhouette score of 0.11880328904702916\n",
      "cluster # = 6, returning a silhouette score of 0.1152490302665901\n",
      "cluster # = 7, returning a silhouette score of 0.11124409594693341\n",
      "cluster # = 8, returning a silhouette score of 0.10351239297661875\n",
      "cluster # = 9, returning a silhouette score of 0.1019014680783338\n"
     ]
    },
    {
     "data": {
      "image/png": "[encoded data removed]",
      "text/plain": [
       "<Figure size 640x480 with 1 Axes>"
      ]
     },
     "metadata": {},
     "output_type": "display_data"
    }
   ],
   "source": [
    "clusters_range = range(2, 10)\n",
    "\n",
    "#Silhouette scores\n",
    "silhouette_scores = []\n",
    "\n",
    "#looping and scoring the different clusters\n",
    "for i in clusters_range:\n",
    "    kmeanModel = KMeans(n_clusters=i, n_init=10)\n",
    "    kmeanModel.fit(df_final)\n",
    "\n",
    "#Silhouette score\n",
    "    silhouette_avg = silhouette_score(df_final, kmeanModel.labels_)\n",
    "    silhouette_scores.append(silhouette_avg)\n",
    "    print(f\"cluster # = {i}, returning a silhouette score of {silhouette_avg}\")\n",
    "\n",
    "#plotting the silhouette score\n",
    "plt.plot(clusters_range, silhouette_scores, 's-', linewidth=3, color='orange')\n",
    "plt.xlabel('K (Number of Clusters)')\n",
    "plt.ylabel('Silhouette Score')\n",
    "plt.show()"
   ]
  },
  {
   "cell_type": "code",
   "execution_count": 12,
   "id": "2fceb44e",
   "metadata": {},
   "outputs": [
    {
     "name": "stdout",
     "output_type": "stream",
     "text": [
      "Silhouette Score: 0.20229678323339656\n",
      "WCSS (Inertia): 64659.52437125287\n",
      "Davies Bouldin Index: 1.7212071598822354\n"
     ]
    }
   ],
   "source": [
    "#WCSS/Inertia scoring\n",
    "inertia = model.inertia_\n",
    "\n",
    "#Designate labels\n",
    "labels = model.labels_\n",
    "\n",
    "#Davies-Bouldin Index\n",
    "db_index = davies_bouldin_score(df_final, labels)\n",
    "\n",
    "#Silhouette scoring\n",
    "silhouette_avg = silhouette_score(df_final, labels)\n",
    "\n",
    "print(\"Silhouette Score:\", silhouette_avg)\n",
    "print(\"WCSS (Inertia):\", inertia)\n",
    "print(\"Davies Bouldin Index:\", db_index)"
   ]
  },
  {
   "cell_type": "markdown",
   "id": "e82e1763",
   "metadata": {},
   "source": [
    "### D2. Code Execution\n",
    "\n",
    "The code is executed in the above sections"
   ]
  },
  {
   "cell_type": "markdown",
   "id": "09ed150c",
   "metadata": {},
   "source": [
    "### E1. Quality of the Custering Technique\n",
    "\n",
    "**Silhouette Score\n",
    "\n",
    "Using the silhouette score as one of our scoring metrics returned an average score of 0.202. A silhouette score is determined by using an average distance of data points within the cluster and comparing that distance to the other clusters. Silhouette scores can range from 1 to -1. 1 would indicate that the datapoint is pact tightly within its own cluster and further away from the surrounding clusters. In contrast, a silhouette score of -1 would indicate that another cluster may be more similar for the datapoint and it was assigned incorrectly. Our score is a 0.202, which indicates some compactness and distance to other clusters, but otherwise just an ok score. \n",
    "\n",
    "**WCSS/Inertia Score\n",
    "\n",
    "The WCSS (Inertia) score is the sum of the distance of which each of the datapoints was assigned to. Opposite of the silhouette scoring method, the WCSS scoring is better as the score gets lower. The smaller the score, the better or more compact, the cluster would be. Again, with a scoring of 64659.53, our result is not the greatest.\n",
    "\n",
    "**Davies-Bouldin Index\n",
    "\n",
    "According to the documentation of scikit learn, the Davies-Bouldin index score \"is defined as the average similarity measure of each cluster with its most similar cluster, where similarity is the ratio of within-cluster distances to between-cluster distances. Thus, clusters which are farther apart and less dispersed will result in a better score\" (Scikit). The lowest the score can be is 0, but a lower score overall is represented by better clustering. With a score of 1.721, our clustering is again, just ok. Not too spread out, but not the most compact our results could have been. "
   ]
  },
  {
   "cell_type": "markdown",
   "id": "fc6c143e",
   "metadata": {},
   "source": [
    "### E2. Results and Implications\n",
    "\n",
    "Using a value of 2 for k, which derived from the elbow method in the graph above, provided a sillhouette score of 0.202. When interpreting the results of the arrays, we must keep in mind that we are using survey questions in our analysis, of which we will be in an 8 feature space, also known as having 8 outputs for our array. As for the results, 2 arrays for the 2 centroids is returned in the output. These centroids represent our values for our clusters, or k. The first cluster has the output of [2.8388998 , 2.89076621, 2.92495088, 3.29724951, 3.74007859, 2.9367387 , 3.02023576, 3.0719057 ], while the 2nd cluster centroid is represented with the values [4.16659878, 4.14195519, 4.06965377, 3.70509165, 3.23665988, 4.07841141, 4.01670061, 3.93482688]. Analyzing these clusters, we can see that cluster 2, overall, has higher values across the 8 features versus cluster 1, which could lead us to assume that cluster 1 has lower feature values in nearly all of the 8 dimensions and therefore separates the datapoints in the cluster based on their feature values. "
   ]
  },
  {
   "cell_type": "markdown",
   "id": "3fa1dcb0",
   "metadata": {},
   "source": [
    "### E3. Limitation\n",
    "\n",
    "One continuing limitation in this analysis is our domain knowledge. While seemingly relatively straight-forward, I do not have the experience in the telecommunications field to warrant 100% confidence in. Another potential limitation is the number of ideal clusters, or our k value. While there is more than 1 method to determine which value for k to use, ultimately, this is subjective and can vary based on the data. "
   ]
  },
  {
   "cell_type": "markdown",
   "id": "b9b71cf2",
   "metadata": {},
   "source": [
    "### E4. Course of Actions\n",
    "\n",
    "As with each analysis performed so far, the results do not provide a black and white output, therefore I would recommend diving further into the analysis. One was to do this would be to not limit the analysis to just the survey data, rather use other variables, presumably continuous, to try to identify stronger trends and/or relationships within the data."
   ]
  },
  {
   "cell_type": "markdown",
   "id": "159d0454",
   "metadata": {},
   "source": [
    "G. Sources\n",
    "\n",
    "The below source was used for the kmeans justification in section B1\n",
    "https://www.analyticsvidhya.com/blog/2019/08/comprehensive-guide-k-means-clustering/\n",
    "    \n",
    "The below source was used in the kmeans assumptions in section B2\n",
    "https://www.geeksforgeeks.org/demonstration-of-k-means-assumptions/\n",
    "\n",
    "The below source was used for reference on the Davies-Bouldin index in section E1.\n",
    "https://scikit-learn.org/stable/modules/generated/sklearn.metrics.davies_bouldin_score.html"
   ]
  }
 ],
 "metadata": {
  "kernelspec": {
   "display_name": "Python 3 (ipykernel)",
   "language": "python",
   "name": "python3"
  },
  "language_info": {
   "codemirror_mode": {
    "name": "ipython",
    "version": 3
   },
   "file_extension": ".py",
   "mimetype": "text/x-python",
   "name": "python",
   "nbconvert_exporter": "python",
   "pygments_lexer": "ipython3",
   "version": "3.11.5"
  }
 },
 "nbformat": 4,
 "nbformat_minor": 5
}
